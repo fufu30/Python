{
 "cells": [
  {
   "cell_type": "code",
   "execution_count": 4,
   "id": "409e2e2f",
   "metadata": {},
   "outputs": [
    {
     "name": "stdout",
     "output_type": "stream",
     "text": [
      "Hello Max\n"
     ]
    }
   ],
   "source": [
    "def name_of_function(name):\n",
    "    print(\"Hello \"+name)\n",
    "name_of_function(\"Max\")\n",
    "    "
   ]
  },
  {
   "cell_type": "code",
   "execution_count": 8,
   "id": "b8f0e0f3",
   "metadata": {},
   "outputs": [
    {
     "name": "stdout",
     "output_type": "stream",
     "text": [
      "3\n"
     ]
    }
   ],
   "source": [
    "def add_fn(num1, num2):\n",
    "    return num1+num2\n",
    "result = add_fn(1,2)\n",
    "print(result)"
   ]
  },
  {
   "cell_type": "code",
   "execution_count": 18,
   "id": "5a2a3a7d",
   "metadata": {},
   "outputs": [],
   "source": [
    "def say_hello(name = \"Default\"):\n",
    "    print(f'Hello {name}')"
   ]
  },
  {
   "cell_type": "code",
   "execution_count": 19,
   "id": "6c8bc4f5",
   "metadata": {},
   "outputs": [
    {
     "name": "stdout",
     "output_type": "stream",
     "text": [
      "Hello Arthur\n"
     ]
    }
   ],
   "source": [
    "say_hello(\"Arthur\")"
   ]
  },
  {
   "cell_type": "code",
   "execution_count": 20,
   "id": "1927b002",
   "metadata": {},
   "outputs": [],
   "source": [
    "def even_check(num):\n",
    "    result = num % 2 == 0\n",
    "    return result\n",
    "#this is a boolean check"
   ]
  },
  {
   "cell_type": "code",
   "execution_count": 21,
   "id": "d8db779d",
   "metadata": {},
   "outputs": [],
   "source": [
    "def even_check_short(num):\n",
    "    return num % 2 == 0\n",
    "#also possible shorter version"
   ]
  },
  {
   "cell_type": "code",
   "execution_count": 22,
   "id": "a5b1797b",
   "metadata": {},
   "outputs": [],
   "source": [
    "#Returns true if any num in a list is even\n",
    "def check_even_list(num_list):\n",
    "    for num in num_list:\n",
    "        if num % 2 == 0:\n",
    "            return True\n",
    "        else:\n",
    "            pass\n",
    "        return False\n",
    "# return one indent less, after for loop done (the returns don't have to be at one lvlv)"
   ]
  },
  {
   "cell_type": "code",
   "execution_count": 23,
   "id": "5e95ad2f",
   "metadata": {},
   "outputs": [
    {
     "data": {
      "text/plain": [
       "True"
      ]
     },
     "execution_count": 23,
     "metadata": {},
     "output_type": "execute_result"
    }
   ],
   "source": [
    "check_even_list([1,1,1,3,4,])"
   ]
  },
  {
   "cell_type": "code",
   "execution_count": 24,
   "id": "cee9890a",
   "metadata": {},
   "outputs": [],
   "source": [
    "def list_even_num(num_list):\n",
    "    \n",
    "    #placeholder variable\n",
    "    even_num = []\n",
    "    \n",
    "    for num in num_list:\n",
    "        if num % 2 == 0:\n",
    "            even_num.append(num)\n",
    "        else:\n",
    "            pass\n",
    "    return even_num"
   ]
  },
  {
   "cell_type": "code",
   "execution_count": 26,
   "id": "02c549b6",
   "metadata": {},
   "outputs": [
    {
     "data": {
      "text/plain": [
       "[2, 4, 8, 90]"
      ]
     },
     "execution_count": 26,
     "metadata": {},
     "output_type": "execute_result"
    }
   ],
   "source": [
    "list_even_num([1,2,3,4,5,67,8,90])"
   ]
  },
  {
   "cell_type": "code",
   "execution_count": 28,
   "id": "14bcab1f",
   "metadata": {},
   "outputs": [],
   "source": [
    "stock_prices =[(\"Appl\",100),(\"Google\",200),(\"Microsoft\",300)]"
   ]
  },
  {
   "cell_type": "code",
   "execution_count": 30,
   "id": "04c8141b",
   "metadata": {},
   "outputs": [
    {
     "name": "stdout",
     "output_type": "stream",
     "text": [
      "110.0\n",
      "220.0\n",
      "330.0\n"
     ]
    }
   ],
   "source": [
    "for ticker,price in stock_prices:\n",
    "    print(price+(0.1*price))\n",
    "    "
   ]
  },
  {
   "cell_type": "code",
   "execution_count": 44,
   "id": "6585e6d0",
   "metadata": {},
   "outputs": [],
   "source": [
    "work_hours=[(\"Abby\",100),(\"Billy\",4000),(\"Cassie\",800)]"
   ]
  },
  {
   "cell_type": "code",
   "execution_count": 42,
   "id": "98ff711e",
   "metadata": {},
   "outputs": [],
   "source": [
    "def employee_of_the_month(work_hours):\n",
    "    \n",
    "    current_max =0\n",
    "    employee_of_month =\"\"\n",
    "    \n",
    "    for name,hours in work_hours:\n",
    "        if hours > current_max:\n",
    "            current_max = hours\n",
    "            employee_of_month =name\n",
    "        else:\n",
    "            pass\n",
    "    \n",
    "    \n",
    "    return(employee_of_month,current_max)\n",
    "    "
   ]
  },
  {
   "cell_type": "code",
   "execution_count": 45,
   "id": "99235062",
   "metadata": {},
   "outputs": [
    {
     "data": {
      "text/plain": [
       "('Billy', 4000)"
      ]
     },
     "execution_count": 45,
     "metadata": {},
     "output_type": "execute_result"
    }
   ],
   "source": [
    "employee_of_the_month(work_hours)"
   ]
  },
  {
   "cell_type": "code",
   "execution_count": 46,
   "id": "f73240d6",
   "metadata": {},
   "outputs": [],
   "source": [
    "employee_name, hours_worked = employee_of_the_month(work_hours)"
   ]
  },
  {
   "cell_type": "code",
   "execution_count": 47,
   "id": "d788821f",
   "metadata": {},
   "outputs": [
    {
     "data": {
      "text/plain": [
       "'Billy'"
      ]
     },
     "execution_count": 47,
     "metadata": {},
     "output_type": "execute_result"
    }
   ],
   "source": [
    "employee_name"
   ]
  },
  {
   "cell_type": "code",
   "execution_count": 48,
   "id": "0775ba16",
   "metadata": {},
   "outputs": [
    {
     "data": {
      "text/plain": [
       "4000"
      ]
     },
     "execution_count": 48,
     "metadata": {},
     "output_type": "execute_result"
    }
   ],
   "source": [
    "hours_worked"
   ]
  },
  {
   "cell_type": "code",
   "execution_count": 53,
   "id": "296d7e06",
   "metadata": {},
   "outputs": [],
   "source": [
    "from random import*\n",
    "shuffled_list = ([1,2,3,4,5,5,6,6,7,8,8,8,8])\n",
    "shuffle(shuffled_list)"
   ]
  },
  {
   "cell_type": "code",
   "execution_count": 54,
   "id": "ea66def0",
   "metadata": {},
   "outputs": [
    {
     "data": {
      "text/plain": [
       "[8, 7, 2, 4, 1, 5, 5, 6, 8, 8, 6, 3, 8]"
      ]
     },
     "execution_count": 54,
     "metadata": {},
     "output_type": "execute_result"
    }
   ],
   "source": [
    "shuffled_list"
   ]
  },
  {
   "cell_type": "code",
   "execution_count": 55,
   "id": "23b67b31",
   "metadata": {},
   "outputs": [],
   "source": [
    "def shuffle_list(mylist):\n",
    "    shuffle(mylist)\n",
    "    return mylist"
   ]
  },
  {
   "cell_type": "code",
   "execution_count": 56,
   "id": "1bd7727a",
   "metadata": {},
   "outputs": [],
   "source": [
    "result = shuffle_list(shuffled_list)"
   ]
  },
  {
   "cell_type": "code",
   "execution_count": 57,
   "id": "5222af4c",
   "metadata": {},
   "outputs": [
    {
     "data": {
      "text/plain": [
       "[3, 8, 8, 1, 5, 8, 8, 2, 7, 6, 5, 6, 4]"
      ]
     },
     "execution_count": 57,
     "metadata": {},
     "output_type": "execute_result"
    }
   ],
   "source": [
    "result"
   ]
  },
  {
   "cell_type": "code",
   "execution_count": 58,
   "id": "9e012b5b",
   "metadata": {},
   "outputs": [],
   "source": [
    "mylist_o = [\"\",\"O\",\"\"]"
   ]
  },
  {
   "cell_type": "code",
   "execution_count": 62,
   "id": "65a9e649",
   "metadata": {},
   "outputs": [
    {
     "data": {
      "text/plain": [
       "['O', '', '']"
      ]
     },
     "execution_count": 62,
     "metadata": {},
     "output_type": "execute_result"
    }
   ],
   "source": [
    "shuffle_list(mylist_o)"
   ]
  },
  {
   "cell_type": "code",
   "execution_count": 74,
   "id": "3dde70c2",
   "metadata": {},
   "outputs": [],
   "source": [
    "def player_guess():\n",
    "    \n",
    "    guess=\"\"\n",
    "    \n",
    "    guess =input(\"Pick a number: 0,1,2\")\n",
    "    \n",
    "    while guess not in [\"0\",\"1\",\"2\"]:\n",
    "        print(\"Out of range. Try again\")\n",
    "        guess =input(\"Pick a number: 0,1,2  \")\n",
    "    \n",
    "    \n",
    "    \n",
    "    return int(guess)"
   ]
  },
  {
   "cell_type": "code",
   "execution_count": 75,
   "id": "46f0613f",
   "metadata": {},
   "outputs": [],
   "source": [
    "def check_guess(mylist_o, guess):\n",
    "    if mylist_o[guess] == \"0\":\n",
    "        print(\"Correct\")\n",
    "    else:\n",
    "        print(\"Wrong guess!\")\n",
    "        print(mylist_o)"
   ]
  },
  {
   "cell_type": "code",
   "execution_count": 76,
   "id": "9407fd29",
   "metadata": {},
   "outputs": [
    {
     "name": "stdout",
     "output_type": "stream",
     "text": [
      "Pick a number: 0,1,21\n",
      "Wrong guess!\n",
      "['O', '', '']\n"
     ]
    }
   ],
   "source": [
    "#Initial list\n",
    "mylist_o = [\"\",\"O\",\"\"]\n",
    "\n",
    "#Shuffle list\n",
    "mixedup_list = shuffle_list(mylist_o)\n",
    "\n",
    "#User guess\n",
    "guess = player_guess()\n",
    "\n",
    "#Check guess\n",
    "check_guess(mixedup_list, guess)"
   ]
  },
  {
   "cell_type": "markdown",
   "id": "616fd0c4",
   "metadata": {},
   "source": [
    "*args = arguments: returns tuple , **kwargs = keywordarguments: returns dictionary"
   ]
  },
  {
   "cell_type": "code",
   "execution_count": 79,
   "id": "f4f4388c",
   "metadata": {},
   "outputs": [],
   "source": [
    "def myfunc(a,b):\n",
    "    return sum((a,b)) *0.05"
   ]
  },
  {
   "cell_type": "code",
   "execution_count": 80,
   "id": "7a8e90d1",
   "metadata": {},
   "outputs": [
    {
     "data": {
      "text/plain": [
       "5.0"
      ]
     },
     "execution_count": 80,
     "metadata": {},
     "output_type": "execute_result"
    }
   ],
   "source": [
    "myfunc(40,60)"
   ]
  },
  {
   "cell_type": "code",
   "execution_count": 82,
   "id": "532cd1c5",
   "metadata": {},
   "outputs": [],
   "source": [
    "def myfunc(*args):\n",
    "    return sum(args)*0.05\n",
    "# all parameters will be added in to a tuple (* at begining, other parameter names are ok) "
   ]
  },
  {
   "cell_type": "code",
   "execution_count": 93,
   "id": "c9c1dbfe",
   "metadata": {},
   "outputs": [],
   "source": [
    "def myfunc(*zuzuz):\n",
    "    print(arg)\n",
    "    return sum(zuzuz)*0.05"
   ]
  },
  {
   "cell_type": "code",
   "execution_count": 96,
   "id": "72b3015c",
   "metadata": {},
   "outputs": [],
   "source": [
    "def myfunc(**kwargs):\n",
    "    print(kwargs)\n",
    "    if \"fruit\" in kwargs:\n",
    "        print(\"My fruit of choice is {}\".format(kwargs[\"fruit\"]))\n",
    "    else:\n",
    "        print(\"No fruit found\")\n",
    "# all parameters will be added in to a dictionary (** at begining, other parameter names are ok) "
   ]
  },
  {
   "cell_type": "code",
   "execution_count": 95,
   "id": "f098c27a",
   "metadata": {},
   "outputs": [
    {
     "name": "stdout",
     "output_type": "stream",
     "text": [
      "{'fruit': 'apple', 'veggie': 'lettuce'}\n",
      "My fruit of choice is apple\n"
     ]
    }
   ],
   "source": [
    "myfunc(fruit=\"apple\", veggie = \"lettuce\")"
   ]
  },
  {
   "cell_type": "code",
   "execution_count": 118,
   "id": "276be725",
   "metadata": {},
   "outputs": [],
   "source": [
    "def myfunc56(*args,**kwargs):\n",
    "    print(\"I would like {} {}\".format(args[0],kwargs[\"food\"]))\n",
    "    \n",
    "#we have to have this order, first *arg, then **kwarg"
   ]
  },
  {
   "cell_type": "code",
   "execution_count": 119,
   "id": "b3b6d6ef",
   "metadata": {},
   "outputs": [
    {
     "name": "stdout",
     "output_type": "stream",
     "text": [
      "I would like 10egg\n"
     ]
    }
   ],
   "source": [
    "myfunc(10,20,3030,302, fruit =\"orange\", food =\"egg\")"
   ]
  },
  {
   "cell_type": "code",
   "execution_count": 139,
   "id": "ca79ff1e",
   "metadata": {},
   "outputs": [],
   "source": [
    "def myfunc(input_string):\n",
    "    index_position = 0\n",
    "    result = []\n",
    "    for letter in input_string:\n",
    "        if index_position%2 == 0:\n",
    "            result.append(input_string[index_position].upper())\n",
    "        else:\n",
    "            result.append(input_string[index_position].lower())\n",
    "        index_position= index_position + 1\n",
    "    \n",
    "    return result"
   ]
  },
  {
   "cell_type": "code",
   "execution_count": 140,
   "id": "07426080",
   "metadata": {},
   "outputs": [
    {
     "data": {
      "text/plain": [
       "['A', 's', 'D', 'f', 'G', 'h', 'J', 'k', 'L']"
      ]
     },
     "execution_count": 140,
     "metadata": {},
     "output_type": "execute_result"
    }
   ],
   "source": [
    "myfunc(\"asdfghjkl\")"
   ]
  },
  {
   "cell_type": "code",
   "execution_count": 143,
   "id": "0fa0c9fc",
   "metadata": {},
   "outputs": [
    {
     "data": {
      "text/plain": [
       "4"
      ]
     },
     "execution_count": 143,
     "metadata": {},
     "output_type": "execute_result"
    }
   ],
   "source": [
    "len([1,2,3,4])"
   ]
  },
  {
   "cell_type": "code",
   "execution_count": 1,
   "id": "4b18944c",
   "metadata": {},
   "outputs": [],
   "source": [
    "def square(num):\n",
    "    return num **2"
   ]
  },
  {
   "cell_type": "code",
   "execution_count": 4,
   "id": "65c8d8a5",
   "metadata": {},
   "outputs": [],
   "source": [
    "my_nums = [1,2,3,4,5]"
   ]
  },
  {
   "cell_type": "code",
   "execution_count": 5,
   "id": "030065e7",
   "metadata": {},
   "outputs": [
    {
     "name": "stdout",
     "output_type": "stream",
     "text": [
      "1\n",
      "4\n",
      "9\n",
      "16\n",
      "25\n"
     ]
    }
   ],
   "source": [
    "for item in map(square, my_nums):\n",
    "    print(item)"
   ]
  },
  {
   "cell_type": "code",
   "execution_count": 6,
   "id": "39aa5924",
   "metadata": {},
   "outputs": [
    {
     "data": {
      "text/plain": [
       "[1, 4, 9, 16, 25]"
      ]
     },
     "execution_count": 6,
     "metadata": {},
     "output_type": "execute_result"
    }
   ],
   "source": [
    "list(map(square, my_nums))"
   ]
  },
  {
   "cell_type": "code",
   "execution_count": 9,
   "id": "76484b65",
   "metadata": {},
   "outputs": [],
   "source": [
    "def splicer(mystring):\n",
    "    if len(mystring)%2 == 0:\n",
    "        return \"Even\"\n",
    "    else:\n",
    "        return mystring[0]"
   ]
  },
  {
   "cell_type": "code",
   "execution_count": 14,
   "id": "49683782",
   "metadata": {},
   "outputs": [],
   "source": [
    "names = [\"Andy\", \"Herald\", \"Garyl\"]"
   ]
  },
  {
   "cell_type": "code",
   "execution_count": 15,
   "id": "9a7e7f05",
   "metadata": {},
   "outputs": [
    {
     "data": {
      "text/plain": [
       "['Even', 'Even', 'G']"
      ]
     },
     "execution_count": 15,
     "metadata": {},
     "output_type": "execute_result"
    }
   ],
   "source": [
    "list(map(splicer,names))"
   ]
  },
  {
   "cell_type": "code",
   "execution_count": 16,
   "id": "0e8e031f",
   "metadata": {},
   "outputs": [],
   "source": [
    "def check_even(num):\n",
    "    return num%2 == 0"
   ]
  },
  {
   "cell_type": "code",
   "execution_count": 17,
   "id": "72190a69",
   "metadata": {},
   "outputs": [],
   "source": [
    "mynums=[1,2,3,4,5,6,7,8,9,0]"
   ]
  },
  {
   "cell_type": "code",
   "execution_count": 20,
   "id": "8be297bc",
   "metadata": {},
   "outputs": [
    {
     "name": "stdout",
     "output_type": "stream",
     "text": [
      "2\n",
      "4\n",
      "6\n",
      "8\n",
      "0\n"
     ]
    }
   ],
   "source": [
    "for item in filter(check_even, mynums):\n",
    "    print(item)"
   ]
  },
  {
   "cell_type": "code",
   "execution_count": 21,
   "id": "719c7506",
   "metadata": {},
   "outputs": [],
   "source": [
    "def square(num):\n",
    "    result = num**2\n",
    "    return result"
   ]
  },
  {
   "cell_type": "code",
   "execution_count": 22,
   "id": "978996db",
   "metadata": {},
   "outputs": [
    {
     "data": {
      "text/plain": [
       "16"
      ]
     },
     "execution_count": 22,
     "metadata": {},
     "output_type": "execute_result"
    }
   ],
   "source": [
    "square(4)"
   ]
  },
  {
   "cell_type": "code",
   "execution_count": 23,
   "id": "51c48d92",
   "metadata": {},
   "outputs": [],
   "source": [
    "def square(num): return num**2"
   ]
  },
  {
   "cell_type": "code",
   "execution_count": 25,
   "id": "f52b51b9",
   "metadata": {},
   "outputs": [],
   "source": [
    "square = lambda num: num**2"
   ]
  },
  {
   "cell_type": "code",
   "execution_count": 26,
   "id": "958b8819",
   "metadata": {},
   "outputs": [
    {
     "data": {
      "text/plain": [
       "3136"
      ]
     },
     "execution_count": 26,
     "metadata": {},
     "output_type": "execute_result"
    }
   ],
   "source": [
    "square(56)"
   ]
  },
  {
   "cell_type": "code",
   "execution_count": 29,
   "id": "4c04495e",
   "metadata": {},
   "outputs": [
    {
     "data": {
      "text/plain": [
       "[1, 4, 9, 16, 25, 36, 49, 64, 81, 0]"
      ]
     },
     "execution_count": 29,
     "metadata": {},
     "output_type": "execute_result"
    }
   ],
   "source": [
    "list(map(lambda num: num**2, mynums))"
   ]
  },
  {
   "cell_type": "code",
   "execution_count": 31,
   "id": "dd8a2075",
   "metadata": {},
   "outputs": [
    {
     "data": {
      "text/plain": [
       "[2, 4, 6, 8, 0]"
      ]
     },
     "execution_count": 31,
     "metadata": {},
     "output_type": "execute_result"
    }
   ],
   "source": [
    "list(filter(lambda num :num %2 == 0, mynums))"
   ]
  },
  {
   "cell_type": "code",
   "execution_count": 32,
   "id": "d6a3ce86",
   "metadata": {},
   "outputs": [],
   "source": [
    "x = 25\n",
    "\n",
    "def printer():\n",
    "    x = 50\n",
    "    return x"
   ]
  },
  {
   "cell_type": "code",
   "execution_count": 34,
   "id": "26fa57e8",
   "metadata": {},
   "outputs": [
    {
     "name": "stdout",
     "output_type": "stream",
     "text": [
      "25\n"
     ]
    }
   ],
   "source": [
    "print(x)"
   ]
  },
  {
   "cell_type": "code",
   "execution_count": 35,
   "id": "3162a15f",
   "metadata": {},
   "outputs": [
    {
     "name": "stdout",
     "output_type": "stream",
     "text": [
      "50\n"
     ]
    }
   ],
   "source": [
    "print(printer())"
   ]
  },
  {
   "cell_type": "code",
   "execution_count": 36,
   "id": "cfac1404",
   "metadata": {},
   "outputs": [
    {
     "name": "stdout",
     "output_type": "stream",
     "text": [
      "25\n"
     ]
    }
   ],
   "source": [
    "print(x)"
   ]
  },
  {
   "cell_type": "markdown",
   "id": "f8a3d810",
   "metadata": {},
   "source": [
    "Now Follow application of the LEGB rules a hierarchical order from left to right where to search for variable names"
   ]
  },
  {
   "cell_type": "code",
   "execution_count": 38,
   "id": "3d321c18",
   "metadata": {},
   "outputs": [],
   "source": [
    "#lambda num: num **2"
   ]
  },
  {
   "cell_type": "code",
   "execution_count": 45,
   "id": "b41956e4",
   "metadata": {},
   "outputs": [],
   "source": [
    "name = \"THIS IS A GLOBAL STRING\"\n",
    "\n",
    "def greet():\n",
    "    name = \"SAMMY\"\n",
    "    \n",
    "    def hello():\n",
    "        print(\"Hello\"+ name)\n",
    "    hello()"
   ]
  },
  {
   "cell_type": "code",
   "execution_count": 47,
   "id": "2c9e4691",
   "metadata": {},
   "outputs": [
    {
     "name": "stdout",
     "output_type": "stream",
     "text": [
      "HelloSAMMY\n"
     ]
    }
   ],
   "source": [
    "greet() #Local name space is within a function for hello- here nothing -> enclosing function(here=greet) => name = SAMMY"
   ]
  },
  {
   "cell_type": "code",
   "execution_count": 49,
   "id": "fe1b6340",
   "metadata": {},
   "outputs": [
    {
     "name": "stdout",
     "output_type": "stream",
     "text": [
      "THIS IS A GLOBAL STRING\n"
     ]
    }
   ],
   "source": [
    "print(name) # for the print fn on local and enclosing lvl there is no name -> global(your script or jupyter noteboook ) lvl => name"
   ]
  },
  {
   "cell_type": "markdown",
   "id": "53f97ca1",
   "metadata": {},
   "source": [
    "and the names in the definition of a standart function in the library can be overwritten, because global is before build in => !!!Don't overwrite!!!"
   ]
  },
  {
   "cell_type": "code",
   "execution_count": 58,
   "id": "910a932b",
   "metadata": {},
   "outputs": [],
   "source": [
    "x=50\n",
    "def func(x):\n",
    "    print(f'X is {x}')\n",
    "    # Local reassignment\n",
    "    x=200\n",
    "    print(f' I just locally changed X to {x}')"
   ]
  },
  {
   "cell_type": "code",
   "execution_count": 61,
   "id": "3b5e1fc4",
   "metadata": {},
   "outputs": [
    {
     "name": "stdout",
     "output_type": "stream",
     "text": [
      "X is 50\n",
      " I just locally changed X to 200\n"
     ]
    }
   ],
   "source": [
    "func()"
   ]
  },
  {
   "cell_type": "code",
   "execution_count": 65,
   "id": "5da803c3",
   "metadata": {},
   "outputs": [],
   "source": [
    "x=50\n",
    "def func():\n",
    "    global x  # Now everything happening inside the function also affects global x \n",
    "    print(f'X is {x}')\n",
    "    # Local reassignment on global lvl\n",
    "    x=200\n",
    "    print(f' I just locally changed global X to \"{x}\"')"
   ]
  },
  {
   "cell_type": "code",
   "execution_count": 66,
   "id": "e309a3a4",
   "metadata": {},
   "outputs": [
    {
     "name": "stdout",
     "output_type": "stream",
     "text": [
      "X is 50\n",
      " I just locally changed global X to \"200\"\n"
     ]
    }
   ],
   "source": [
    "func()"
   ]
  },
  {
   "cell_type": "code",
   "execution_count": 67,
   "id": "8dab9937",
   "metadata": {},
   "outputs": [
    {
     "name": "stdout",
     "output_type": "stream",
     "text": [
      "200\n"
     ]
    }
   ],
   "source": [
    "print(x)"
   ]
  },
  {
   "cell_type": "code",
   "execution_count": 72,
   "id": "ef545cae",
   "metadata": {},
   "outputs": [],
   "source": [
    "#alternative (safer)\n",
    "def func(x):\n",
    "    print(f'X is {x}')\n",
    "    x=200\n",
    "    print(f' I just locally changed global X to \"{x}\"')\n",
    "    return x"
   ]
  },
  {
   "cell_type": "code",
   "execution_count": 73,
   "id": "03faee1a",
   "metadata": {},
   "outputs": [
    {
     "name": "stdout",
     "output_type": "stream",
     "text": [
      "X is 50\n",
      " I just locally changed global X to \"200\"\n"
     ]
    },
    {
     "data": {
      "text/plain": [
       "200"
      ]
     },
     "execution_count": 73,
     "metadata": {},
     "output_type": "execute_result"
    }
   ],
   "source": [
    "func(50)"
   ]
  },
  {
   "cell_type": "code",
   "execution_count": null,
   "id": "754cb1ce",
   "metadata": {},
   "outputs": [],
   "source": []
  }
 ],
 "metadata": {
  "kernelspec": {
   "display_name": "Python 3 (ipykernel)",
   "language": "python",
   "name": "python3"
  },
  "language_info": {
   "codemirror_mode": {
    "name": "ipython",
    "version": 3
   },
   "file_extension": ".py",
   "mimetype": "text/x-python",
   "name": "python",
   "nbconvert_exporter": "python",
   "pygments_lexer": "ipython3",
   "version": "3.11.5"
  }
 },
 "nbformat": 4,
 "nbformat_minor": 5
}
