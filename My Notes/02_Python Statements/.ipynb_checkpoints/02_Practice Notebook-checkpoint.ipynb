{
 "cells": [
  {
   "cell_type": "code",
   "execution_count": 1,
   "id": "5e9483a4",
   "metadata": {},
   "outputs": [
    {
     "name": "stdout",
     "output_type": "stream",
     "text": [
      "Im not hungry\n"
     ]
    }
   ],
   "source": [
    "hungry = False\n",
    "if hungry:\n",
    "    print(\"Feed me\")\n",
    "else:\n",
    "    print(\"Im not hungry\") "
   ]
  },
  {
   "cell_type": "code",
   "execution_count": 4,
   "id": "f602bea4",
   "metadata": {},
   "outputs": [
    {
     "name": "stdout",
     "output_type": "stream",
     "text": [
      "Food is cool\n"
     ]
    }
   ],
   "source": [
    "loc = \"Restaurant\"\n",
    "\n",
    "if loc == \"Autoshop\":\n",
    "    print(\"Cars are cool\")\n",
    "elif loc == \"Bank\":\n",
    "    print(\"Money is cool\")\n",
    "elif loc == \"Restaurant\":\n",
    "    print (\"Food is cool\")\n",
    "else:\n",
    "    print(\"I don't know much\")"
   ]
  },
  {
   "cell_type": "code",
   "execution_count": 14,
   "id": "5910170a",
   "metadata": {},
   "outputs": [
    {
     "name": "stdout",
     "output_type": "stream",
     "text": [
      "1\n",
      "2\n",
      "3\n",
      "4\n",
      "5\n",
      "6\n",
      "7\n",
      "8\n",
      "9\n",
      "10\n"
     ]
    }
   ],
   "source": [
    "mylist=[1,2,3,4,5,6,7,8,9,10]\n",
    "for jelly in mylist:\n",
    "    print(jelly)"
   ]
  },
  {
   "cell_type": "markdown",
   "id": "71e6bb1b",
   "metadata": {},
   "source": [
    "Every variable name is possible, as long as it is the same in both lines"
   ]
  },
  {
   "cell_type": "code",
   "execution_count": 19,
   "id": "545a6761",
   "metadata": {},
   "outputs": [
    {
     "name": "stdout",
     "output_type": "stream",
     "text": [
      "Odd number 1\n",
      "Even number 2\n",
      "Odd number 3\n",
      "Even number 4\n",
      "Odd number 5\n",
      "Even number 6\n",
      "Odd number 7\n",
      "Even number 8\n",
      "Odd number 9\n",
      "Even number 10\n"
     ]
    }
   ],
   "source": [
    "for num in mylist:\n",
    "    if num % 2 == 0:\n",
    "        print(\"Even number {e}\".format(e =num))\n",
    "    else:\n",
    "        print(f\"Odd number {num}\")"
   ]
  },
  {
   "cell_type": "code",
   "execution_count": 24,
   "id": "f32fc2ce",
   "metadata": {},
   "outputs": [],
   "source": [
    "list_sum = 0"
   ]
  },
  {
   "cell_type": "code",
   "execution_count": 25,
   "id": "987fd27f",
   "metadata": {},
   "outputs": [
    {
     "name": "stdout",
     "output_type": "stream",
     "text": [
      "55\n"
     ]
    }
   ],
   "source": [
    "for num in mylist:\n",
    "    list_sum = list_sum + num\n",
    "print(list_sum)"
   ]
  },
  {
   "cell_type": "code",
   "execution_count": 27,
   "id": "d1b109d5",
   "metadata": {},
   "outputs": [
    {
     "name": "stdout",
     "output_type": "stream",
     "text": [
      "H\n",
      "e\n",
      "l\n",
      "l\n",
      "o\n",
      " \n",
      "w\n",
      "o\n",
      "r\n",
      "l\n",
      "d\n"
     ]
    }
   ],
   "source": [
    "mystring=\"Hello world\"\n",
    "for letter in mystring:\n",
    "    print(letter)"
   ]
  },
  {
   "cell_type": "code",
   "execution_count": 28,
   "id": "5f6a3542",
   "metadata": {},
   "outputs": [
    {
     "name": "stdout",
     "output_type": "stream",
     "text": [
      "letter\n",
      "letter\n",
      "letter\n",
      "letter\n",
      "letter\n",
      "letter\n",
      "letter\n",
      "letter\n",
      "letter\n",
      "letter\n"
     ]
    }
   ],
   "source": [
    "for _ in mylist:\n",
    "    print(\"letter\")"
   ]
  },
  {
   "cell_type": "markdown",
   "id": "210eb23b",
   "metadata": {},
   "source": [
    "If you don't intend to use the variable, but want to iterate something times charachter (i.e.) you use underscore for visibility"
   ]
  },
  {
   "cell_type": "code",
   "execution_count": 31,
   "id": "452165e0",
   "metadata": {},
   "outputs": [
    {
     "name": "stdout",
     "output_type": "stream",
     "text": [
      "3\n",
      "4\n"
     ]
    }
   ],
   "source": [
    "mylist=[(1,2),(3,4),(5,6)]\n",
    "for item in mylist:\n",
    "    print(item)"
   ]
  },
  {
   "cell_type": "code",
   "execution_count": 32,
   "id": "5603dafc",
   "metadata": {},
   "outputs": [
    {
     "name": "stdout",
     "output_type": "stream",
     "text": [
      "1\n",
      "2\n",
      "3\n",
      "4\n",
      "5\n",
      "6\n"
     ]
    }
   ],
   "source": [
    "for (a,b) in mylist:\n",
    "    print(a)\n",
    "    print(b)"
   ]
  },
  {
   "cell_type": "markdown",
   "id": "de7fb87c",
   "metadata": {},
   "source": [
    "Tuppel unpacking: Structure of nested items replicated=> access items in there(technically for a,b (without ()is also possible)"
   ]
  },
  {
   "cell_type": "code",
   "execution_count": 33,
   "id": "6500e09d",
   "metadata": {},
   "outputs": [
    {
     "name": "stdout",
     "output_type": "stream",
     "text": [
      "2\n",
      "2\n",
      "2\n"
     ]
    }
   ],
   "source": [
    "mylistlist =[[1,2,3],[1,2,3],[1,2,3]]\n",
    "for a,b,c in mylistlist:\n",
    "    print(b)"
   ]
  },
  {
   "cell_type": "code",
   "execution_count": 34,
   "id": "5ebebe11",
   "metadata": {},
   "outputs": [
    {
     "name": "stdout",
     "output_type": "stream",
     "text": [
      "k1\n",
      "k2\n"
     ]
    }
   ],
   "source": [
    "d={\"k1\":1, \"k2\":2}\n",
    "for items in d:\n",
    "    print(items)"
   ]
  },
  {
   "cell_type": "code",
   "execution_count": 39,
   "id": "a34d453b",
   "metadata": {},
   "outputs": [
    {
     "name": "stdout",
     "output_type": "stream",
     "text": [
      "k1\n",
      "1\n",
      "k2\n",
      "2\n"
     ]
    }
   ],
   "source": [
    "for key, values in d.items():\n",
    "    print(key)\n",
    "    print(values)"
   ]
  },
  {
   "cell_type": "code",
   "execution_count": 43,
   "id": "d1cb1723",
   "metadata": {},
   "outputs": [
    {
     "name": "stdout",
     "output_type": "stream",
     "text": [
      "True\n"
     ]
    }
   ],
   "source": [
    "if 2<3:\n",
    "    print(\"True\")"
   ]
  },
  {
   "cell_type": "code",
   "execution_count": 5,
   "id": "1e0a1784",
   "metadata": {},
   "outputs": [
    {
     "name": "stdout",
     "output_type": "stream",
     "text": [
      "The current value of x is 0\n",
      "The current value of x is 1\n",
      "The current value of x is 2\n",
      "The current value of x is 3\n",
      "The current value of x is 4\n",
      "X is not less than 5\n"
     ]
    }
   ],
   "source": [
    "x = 0\n",
    "while x < 5:\n",
    "    print(f\"The current value of x is {x}\")\n",
    "    x += 1\n",
    "else:\n",
    "    print(\"X is not less than 5\")"
   ]
  },
  {
   "cell_type": "code",
   "execution_count": 6,
   "id": "cfd064cc",
   "metadata": {},
   "outputs": [],
   "source": [
    "x= [1,2,3,4]\n",
    "for item in x:\n",
    "    pass"
   ]
  },
  {
   "cell_type": "markdown",
   "id": "8e92aa2d",
   "metadata": {},
   "source": [
    "\"pass\" works as a placeholder, because otherwise there is going to be an error for the for-loop. It does nothing, passes on the loop"
   ]
  },
  {
   "cell_type": "code",
   "execution_count": 7,
   "id": "8ebc5288",
   "metadata": {},
   "outputs": [],
   "source": [
    "mystring =\"Sammy\""
   ]
  },
  {
   "cell_type": "code",
   "execution_count": 8,
   "id": "720fb861",
   "metadata": {},
   "outputs": [
    {
     "name": "stdout",
     "output_type": "stream",
     "text": [
      "S\n",
      "m\n",
      "m\n",
      "y\n"
     ]
    }
   ],
   "source": [
    "for letter in mystring:\n",
    "    if letter == \"a\": continue\n",
    "    print(letter)"
   ]
  },
  {
   "cell_type": "markdown",
   "id": "32d6db9b",
   "metadata": {},
   "source": [
    "\"continue\"goes to the top of the current enclosing loop(only loop), it's like a skip for a turn here"
   ]
  },
  {
   "cell_type": "code",
   "execution_count": 9,
   "id": "0875aeb5",
   "metadata": {},
   "outputs": [
    {
     "name": "stdout",
     "output_type": "stream",
     "text": [
      "S\n"
     ]
    }
   ],
   "source": [
    "for letter in mystring:\n",
    "    if letter == \"a\": break\n",
    "    print(letter)"
   ]
  },
  {
   "cell_type": "markdown",
   "id": "462e63b6",
   "metadata": {},
   "source": [
    "\"break\" breaks out of the current enclosing loop"
   ]
  },
  {
   "cell_type": "code",
   "execution_count": 12,
   "id": "0ea5d0ec",
   "metadata": {},
   "outputs": [
    {
     "name": "stdout",
     "output_type": "stream",
     "text": [
      "0\n",
      "1\n"
     ]
    }
   ],
   "source": [
    "x = 0\n",
    "while x<5:\n",
    "    if x == 2:\n",
    "        break\n",
    "    print(x)\n",
    "    x+=1"
   ]
  },
  {
   "cell_type": "code",
   "execution_count": 14,
   "id": "9288f85c",
   "metadata": {},
   "outputs": [
    {
     "name": "stdout",
     "output_type": "stream",
     "text": [
      "0\n",
      "2\n",
      "4\n",
      "6\n",
      "8\n",
      "10\n"
     ]
    }
   ],
   "source": [
    "for num in range(0,11,2):\n",
    "    print(num)\n"
   ]
  },
  {
   "cell_type": "code",
   "execution_count": 15,
   "id": "cc5ea6ae",
   "metadata": {},
   "outputs": [
    {
     "data": {
      "text/plain": [
       "[0, 2, 4, 6, 8, 10]"
      ]
     },
     "execution_count": 15,
     "metadata": {},
     "output_type": "execute_result"
    }
   ],
   "source": [
    "list(range(0,11,2))"
   ]
  },
  {
   "cell_type": "markdown",
   "id": "4623b4c3",
   "metadata": {},
   "source": [
    "Range is a generator, which means it doesn't save it in memory, just generates "
   ]
  },
  {
   "cell_type": "code",
   "execution_count": 16,
   "id": "e21ec99d",
   "metadata": {},
   "outputs": [
    {
     "name": "stdout",
     "output_type": "stream",
     "text": [
      "At index 0 the letter is a\n",
      "At index 0 the letter is b\n",
      "At index 0 the letter is c\n",
      "At index 0 the letter is d\n",
      "At index 0 the letter is e\n"
     ]
    }
   ],
   "source": [
    "index_count=0\n",
    "for letter in \"abcde\":\n",
    "    print(\"At index {} the letter is {}\".format(index_count, letter))"
   ]
  },
  {
   "cell_type": "code",
   "execution_count": 19,
   "id": "d7958172",
   "metadata": {},
   "outputs": [
    {
     "name": "stdout",
     "output_type": "stream",
     "text": [
      "(0, 'H')\n",
      "(1, 'e')\n",
      "(2, 'l')\n",
      "(3, 'l')\n",
      "(4, 'o')\n"
     ]
    }
   ],
   "source": [
    "word = \"Hello\"\n",
    "for item in enumerate(word):\n",
    "    print (item)"
   ]
  },
  {
   "cell_type": "code",
   "execution_count": 23,
   "id": "c900d158",
   "metadata": {},
   "outputs": [
    {
     "name": "stdout",
     "output_type": "stream",
     "text": [
      "H\n",
      "\n",
      "\n",
      "e\n",
      "\n",
      "\n",
      "l\n",
      "\n",
      "\n",
      "l\n",
      "\n",
      "\n",
      "o\n",
      "\n",
      "\n"
     ]
    }
   ],
   "source": [
    "word = \"Hello\"\n",
    "for index, letter in enumerate(word):\n",
    "    print (letter)\n",
    "    print(\"\\n\")"
   ]
  },
  {
   "cell_type": "code",
   "execution_count": 27,
   "id": "009d6a74",
   "metadata": {},
   "outputs": [
    {
     "name": "stdout",
     "output_type": "stream",
     "text": [
      "(1, 'a', 100)\n",
      "(2, 'b', 200)\n"
     ]
    }
   ],
   "source": [
    "mylist1 = [1,2,3,4,5,]\n",
    "mylist2 = [\"a\",\"b\",\"c\",\"d\",\"e\"]\n",
    "mylist3 = [100, 200]\n",
    "for item in zip(mylist1, mylist2, mylist3):\n",
    "    print (item)\n",
    "    "
   ]
  },
  {
   "cell_type": "markdown",
   "id": "fd53af23",
   "metadata": {},
   "source": [
    "Zip can only go as far as the shortest list"
   ]
  },
  {
   "cell_type": "code",
   "execution_count": 47,
   "id": "3464c201",
   "metadata": {},
   "outputs": [
    {
     "name": "stdout",
     "output_type": "stream",
     "text": [
      "1\n",
      "2\n",
      "3\n",
      "4\n",
      "5\n"
     ]
    }
   ],
   "source": [
    "list123 = [None]\n",
    "mylist1 = [1,2,3,4,5,]\n",
    "mylist2 = [\"a\",\"b\",\"c\",\"d\",\"e\"]\n",
    "for a,b, in zip(mylist1, mylist2,):\n",
    "    print (a)\n",
    "    list123.append(a)\n",
    "list123.pop(0)"
   ]
  },
  {
   "cell_type": "code",
   "execution_count": 37,
   "id": "f5bbe6a4",
   "metadata": {},
   "outputs": [
    {
     "data": {
      "text/plain": [
       "[(1, 'a'), (2, 'b'), (3, 'c'), (4, 'd'), (5, 'e')]"
      ]
     },
     "execution_count": 37,
     "metadata": {},
     "output_type": "execute_result"
    }
   ],
   "source": [
    "list (zip(mylist1, mylist2)) "
   ]
  },
  {
   "cell_type": "code",
   "execution_count": 48,
   "id": "12097c26",
   "metadata": {},
   "outputs": [
    {
     "data": {
      "text/plain": [
       "[1, 2, 3, 4, 5]"
      ]
     },
     "execution_count": 48,
     "metadata": {},
     "output_type": "execute_result"
    }
   ],
   "source": [
    "list123"
   ]
  },
  {
   "cell_type": "code",
   "execution_count": 49,
   "id": "4b675663",
   "metadata": {},
   "outputs": [
    {
     "data": {
      "text/plain": [
       "False"
      ]
     },
     "execution_count": 49,
     "metadata": {},
     "output_type": "execute_result"
    }
   ],
   "source": [
    "\"x\" in \"123fghj\""
   ]
  },
  {
   "cell_type": "code",
   "execution_count": 56,
   "id": "7dbc4302",
   "metadata": {},
   "outputs": [
    {
     "data": {
      "text/plain": [
       "True"
      ]
     },
     "execution_count": 56,
     "metadata": {},
     "output_type": "execute_result"
    }
   ],
   "source": [
    "\"x\" in [\"x\",\"y\",\"a\"]"
   ]
  },
  {
   "cell_type": "code",
   "execution_count": 57,
   "id": "be501310",
   "metadata": {},
   "outputs": [],
   "source": [
    " mylist = list(range(0,1000,100))"
   ]
  },
  {
   "cell_type": "code",
   "execution_count": 58,
   "id": "8d30c6ea",
   "metadata": {},
   "outputs": [
    {
     "data": {
      "text/plain": [
       "0"
      ]
     },
     "execution_count": 58,
     "metadata": {},
     "output_type": "execute_result"
    }
   ],
   "source": [
    "min(mylist)"
   ]
  },
  {
   "cell_type": "code",
   "execution_count": 59,
   "id": "2ebb17c9",
   "metadata": {},
   "outputs": [
    {
     "data": {
      "text/plain": [
       "900"
      ]
     },
     "execution_count": 59,
     "metadata": {},
     "output_type": "execute_result"
    }
   ],
   "source": [
    "max(mylist)"
   ]
  },
  {
   "cell_type": "code",
   "execution_count": 64,
   "id": "ae5515cd",
   "metadata": {},
   "outputs": [
    {
     "name": "stdout",
     "output_type": "stream",
     "text": [
      "[200, 100, 400, 500, 0, 900, 700, 600, 800, 300]\n"
     ]
    }
   ],
   "source": [
    "#Import a library\n",
    "from random import shuffle\n",
    "shuffle(mylist)\n",
    "print(mylist)\n",
    "#shuffle is an implace function"
   ]
  },
  {
   "cell_type": "code",
   "execution_count": 67,
   "id": "10475c29",
   "metadata": {},
   "outputs": [
    {
     "data": {
      "text/plain": [
       "74"
      ]
     },
     "execution_count": 67,
     "metadata": {},
     "output_type": "execute_result"
    }
   ],
   "source": [
    "from random import randint\n",
    "randint(0,100)"
   ]
  },
  {
   "cell_type": "code",
   "execution_count": 70,
   "id": "aae9f84f",
   "metadata": {},
   "outputs": [],
   "source": [
    "mynum = randint(0,10)"
   ]
  },
  {
   "cell_type": "code",
   "execution_count": 76,
   "id": "fd1c9182",
   "metadata": {},
   "outputs": [
    {
     "name": "stdout",
     "output_type": "stream",
     "text": [
      "Whats your name:Jose\n"
     ]
    }
   ],
   "source": [
    "result = input(\"Whats your name:\")\n",
    "#input accepts everything as a string"
   ]
  },
  {
   "cell_type": "code",
   "execution_count": 75,
   "id": "2d532ed9",
   "metadata": {},
   "outputs": [
    {
     "data": {
      "text/plain": [
       "str"
      ]
     },
     "execution_count": 75,
     "metadata": {},
     "output_type": "execute_result"
    }
   ],
   "source": [
    "type(result)"
   ]
  },
  {
   "cell_type": "code",
   "execution_count": 80,
   "id": "d7c6e5eb",
   "metadata": {},
   "outputs": [
    {
     "name": "stdout",
     "output_type": "stream",
     "text": [
      "Enter a number here:7\n"
     ]
    }
   ],
   "source": [
    "result = int(input(\"Enter a number here:\"))"
   ]
  },
  {
   "cell_type": "code",
   "execution_count": 81,
   "id": "7529dc86",
   "metadata": {},
   "outputs": [
    {
     "data": {
      "text/plain": [
       "int"
      ]
     },
     "execution_count": 81,
     "metadata": {},
     "output_type": "execute_result"
    }
   ],
   "source": [
    "type(result)"
   ]
  },
  {
   "cell_type": "code",
   "execution_count": 82,
   "id": "6de457fd",
   "metadata": {},
   "outputs": [],
   "source": [
    "mystring = \"Hello\""
   ]
  },
  {
   "cell_type": "code",
   "execution_count": 83,
   "id": "114876cc",
   "metadata": {},
   "outputs": [],
   "source": [
    "mylist = []\n",
    "for letter in mystring:\n",
    "    mylist.append(letter)"
   ]
  },
  {
   "cell_type": "code",
   "execution_count": 84,
   "id": "01a730dd",
   "metadata": {},
   "outputs": [
    {
     "data": {
      "text/plain": [
       "['H', 'e', 'l', 'l', 'o']"
      ]
     },
     "execution_count": 84,
     "metadata": {},
     "output_type": "execute_result"
    }
   ],
   "source": [
    "mylist"
   ]
  },
  {
   "cell_type": "code",
   "execution_count": 85,
   "id": "41bb7152",
   "metadata": {},
   "outputs": [],
   "source": [
    "mylist = [letter for letter in mystring]"
   ]
  },
  {
   "cell_type": "code",
   "execution_count": 86,
   "id": "25fea8bd",
   "metadata": {},
   "outputs": [
    {
     "data": {
      "text/plain": [
       "['H', 'e', 'l', 'l', 'o']"
      ]
     },
     "execution_count": 86,
     "metadata": {},
     "output_type": "execute_result"
    }
   ],
   "source": [
    "mylist"
   ]
  },
  {
   "cell_type": "code",
   "execution_count": 90,
   "id": "6c1ee847",
   "metadata": {},
   "outputs": [],
   "source": [
    "mylist = [x for x in \"word\"]\n",
    "# this is a flattened out for-loop"
   ]
  },
  {
   "cell_type": "code",
   "execution_count": 91,
   "id": "a94fd70c",
   "metadata": {},
   "outputs": [
    {
     "data": {
      "text/plain": [
       "['w', 'o', 'r', 'd']"
      ]
     },
     "execution_count": 91,
     "metadata": {},
     "output_type": "execute_result"
    }
   ],
   "source": [
    "mylist"
   ]
  },
  {
   "cell_type": "code",
   "execution_count": 92,
   "id": "43788ee8",
   "metadata": {},
   "outputs": [],
   "source": [
    "mynumlist =[num for num in range(0,11)]"
   ]
  },
  {
   "cell_type": "code",
   "execution_count": 93,
   "id": "738a75fa",
   "metadata": {},
   "outputs": [
    {
     "data": {
      "text/plain": [
       "[0, 1, 2, 3, 4, 5, 6, 7, 8, 9, 10]"
      ]
     },
     "execution_count": 93,
     "metadata": {},
     "output_type": "execute_result"
    }
   ],
   "source": [
    "mynumlist"
   ]
  },
  {
   "cell_type": "code",
   "execution_count": 94,
   "id": "7a534c8f",
   "metadata": {},
   "outputs": [],
   "source": [
    "mynumlist =[num**2 for num in range(0,11)]"
   ]
  },
  {
   "cell_type": "code",
   "execution_count": 95,
   "id": "2a9649f5",
   "metadata": {},
   "outputs": [
    {
     "data": {
      "text/plain": [
       "[0, 1, 4, 9, 16, 25, 36, 49, 64, 81, 100]"
      ]
     },
     "execution_count": 95,
     "metadata": {},
     "output_type": "execute_result"
    }
   ],
   "source": [
    "mynumlist"
   ]
  },
  {
   "cell_type": "code",
   "execution_count": 98,
   "id": "89951e5d",
   "metadata": {},
   "outputs": [],
   "source": [
    "mynumlist = [x for x in range(0,11) if x%2 ==0]"
   ]
  },
  {
   "cell_type": "code",
   "execution_count": 99,
   "id": "1450bab2",
   "metadata": {},
   "outputs": [
    {
     "data": {
      "text/plain": [
       "[0, 2, 4, 6, 8, 10]"
      ]
     },
     "execution_count": 99,
     "metadata": {},
     "output_type": "execute_result"
    }
   ],
   "source": [
    "mynumlist"
   ]
  },
  {
   "cell_type": "code",
   "execution_count": 101,
   "id": "2ab7d813",
   "metadata": {},
   "outputs": [
    {
     "name": "stdout",
     "output_type": "stream",
     "text": [
      "[32.0, 50.0, 68.0, 86.0, 104.0, 122.0, 140.0, 158.0, 176.0, 194.0, 212.0, 230.0, 248.0, 266.0, 284.0, 302.0, 320.0, 338.0, 356.0, 374.0, 392.0, 410.0, 428.0, 446.0, 464.0, 482.0, 500.0, 518.0, 536.0, 554.0, 572.0, 590.0, 608.0, 626.0, 644.0, 662.0]\n"
     ]
    }
   ],
   "source": [
    "celsius = [x for x in range(0,360,10)]\n",
    "fahrenheit = [((9/5)*temp +32) for temp in celsius]\n",
    "print(fahrenheit)"
   ]
  },
  {
   "cell_type": "code",
   "execution_count": 103,
   "id": "56ad91d6",
   "metadata": {},
   "outputs": [
    {
     "name": "stdout",
     "output_type": "stream",
     "text": [
      "[32.0, 68.0, 104.0, 140.0, 176.0, 212.0, 248.0, 284.0, 320.0, 356.0, 392.0, 428.0, 464.0, 500.0, 536.0, 572.0, 608.0, 644.0]\n"
     ]
    }
   ],
   "source": [
    "fahrenheit=[]\n",
    "celsius=[x for x in range(0,360,20)]\n",
    "for x in celsius:\n",
    "    fahrenheit.append((9/5)*x+32)\n",
    "print(fahrenheit)"
   ]
  },
  {
   "cell_type": "code",
   "execution_count": 105,
   "id": "11c1909d",
   "metadata": {},
   "outputs": [],
   "source": [
    "mylist = []\n",
    "\n",
    "for x in [2,4,6]:\n",
    "    for y in [100, 200, 300]:\n",
    "        mylist.append(x*y)"
   ]
  },
  {
   "cell_type": "code",
   "execution_count": 106,
   "id": "d0339dac",
   "metadata": {},
   "outputs": [],
   "source": [
    "mylist = [x*y for x in [2,4,6] for y in [1,10,1000]]"
   ]
  },
  {
   "cell_type": "code",
   "execution_count": 107,
   "id": "fdfd9643",
   "metadata": {},
   "outputs": [
    {
     "data": {
      "text/plain": [
       "[2, 20, 2000, 4, 40, 4000, 6, 60, 6000]"
      ]
     },
     "execution_count": 107,
     "metadata": {},
     "output_type": "execute_result"
    }
   ],
   "source": [
    "mylist"
   ]
  },
  {
   "cell_type": "code",
   "execution_count": 114,
   "id": "5e2e4e24",
   "metadata": {},
   "outputs": [
    {
     "data": {
      "text/plain": [
       "['Hello World thi', ' i', ' nice']"
      ]
     },
     "execution_count": 114,
     "metadata": {},
     "output_type": "execute_result"
    }
   ],
   "source": [
    "mystring78= \"Hello World this is nice\"\n",
    "mystring78.split(\"s\")"
   ]
  },
  {
   "cell_type": "code",
   "execution_count": 115,
   "id": "92346ece",
   "metadata": {},
   "outputs": [
    {
     "ename": "TypeError",
     "evalue": "enumerate() missing required argument 'iterable'",
     "output_type": "error",
     "traceback": [
      "\u001b[0;31m---------------------------------------------------------------------------\u001b[0m",
      "\u001b[0;31mTypeError\u001b[0m                                 Traceback (most recent call last)",
      "Cell \u001b[0;32mIn[115], line 2\u001b[0m\n\u001b[1;32m      1\u001b[0m \u001b[38;5;28;01mfor\u001b[39;00m x \u001b[38;5;129;01min\u001b[39;00m mystring78:\n\u001b[0;32m----> 2\u001b[0m     \u001b[38;5;28menumerate\u001b[39m()\n",
      "\u001b[0;31mTypeError\u001b[0m: enumerate() missing required argument 'iterable'"
     ]
    }
   ],
   "source": [
    "for x in mystring78:\n",
    "    enumerate()"
   ]
  },
  {
   "cell_type": "code",
   "execution_count": null,
   "id": "459851c0",
   "metadata": {},
   "outputs": [],
   "source": []
  }
 ],
 "metadata": {
  "kernelspec": {
   "display_name": "Python 3 (ipykernel)",
   "language": "python",
   "name": "python3"
  },
  "language_info": {
   "codemirror_mode": {
    "name": "ipython",
    "version": 3
   },
   "file_extension": ".py",
   "mimetype": "text/x-python",
   "name": "python",
   "nbconvert_exporter": "python",
   "pygments_lexer": "ipython3",
   "version": "3.11.5"
  }
 },
 "nbformat": 4,
 "nbformat_minor": 5
}
