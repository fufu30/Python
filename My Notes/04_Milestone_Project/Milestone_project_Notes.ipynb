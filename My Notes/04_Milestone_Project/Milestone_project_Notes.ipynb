{
 "cells": [
  {
   "cell_type": "code",
   "execution_count": 49,
   "id": "83c17632",
   "metadata": {},
   "outputs": [],
   "source": [
    "def user_choice():\n",
    "    #Variables\n",
    "    \n",
    "    #Initials\n",
    "    choice = \"wrong\"\n",
    "    acceptable_range = range(0,10)\n",
    "    within_range = False\n",
    "    \n",
    "    while choice.isdigit() == False or within_range == False:\n",
    "            \n",
    "        choice= input(\"Please enter a number between 1 and 100: \")\n",
    "        \n",
    "        #Digit check\n",
    "        if choice.isdigit() == False:\n",
    "            print(\"Sorry, that's not a digit\")\n",
    "        \n",
    "        #Range check\n",
    "        if choice.isdigit() == True:\n",
    "            if int(choice) in acceptable_range:\n",
    "                within_range = True\n",
    "            else:\n",
    "                within_range = False\n",
    "                print(\"Sorry you are out of acceptable range\")\n",
    "        \n",
    "    return int(choice)"
   ]
  },
  {
   "cell_type": "code",
   "execution_count": 50,
   "id": "2090eba9",
   "metadata": {},
   "outputs": [],
   "source": [
    "some_value = \"100\""
   ]
  },
  {
   "cell_type": "code",
   "execution_count": 51,
   "id": "918f1201",
   "metadata": {},
   "outputs": [
    {
     "data": {
      "text/plain": [
       "True"
      ]
     },
     "execution_count": 51,
     "metadata": {},
     "output_type": "execute_result"
    }
   ],
   "source": [
    "some_value.isdigit()"
   ]
  },
  {
   "cell_type": "code",
   "execution_count": 17,
   "id": "df04f157",
   "metadata": {},
   "outputs": [],
   "source": [
    "myneuu=[\"gg\",\"\\nf\"]"
   ]
  },
  {
   "cell_type": "code",
   "execution_count": 19,
   "id": "f4dc1dff",
   "metadata": {},
   "outputs": [
    {
     "name": "stdout",
     "output_type": "stream",
     "text": [
      "['gg', '\\nf']\n"
     ]
    }
   ],
   "source": [
    "print(myneuu)"
   ]
  },
  {
   "cell_type": "code",
   "execution_count": 21,
   "id": "eba1c558",
   "metadata": {},
   "outputs": [
    {
     "name": "stdout",
     "output_type": "stream",
     "text": [
      "  |   |  \n",
      "---------\n",
      "  |   |  \n",
      "---------\n",
      "  |   |  \n",
      "\n",
      "Do you want to continue playing (Y or N)?Y\n",
      "Please input the position of your next move: 8\n"
     ]
    },
    {
     "ename": "TypeError",
     "evalue": "list indices must be integers or slices, not str",
     "output_type": "error",
     "traceback": [
      "\u001b[0;31m---------------------------------------------------------------------------\u001b[0m",
      "\u001b[0;31mTypeError\u001b[0m                                 Traceback (most recent call last)",
      "Cell \u001b[0;32mIn[21], line 44\u001b[0m\n\u001b[1;32m     40\u001b[0m \tgame_choice \u001b[38;5;241m=\u001b[39m \u001b[38;5;28minput\u001b[39m(\u001b[38;5;124m\"\u001b[39m\u001b[38;5;124mDo you want to continue playing (Y or N)?\u001b[39m\u001b[38;5;124m\"\u001b[39m)\n\u001b[1;32m     42\u001b[0m \tuser_choice()\n\u001b[0;32m---> 44\u001b[0m \tfieldls[(new_choice)] \u001b[38;5;241m=\u001b[39m \u001b[38;5;124m\"\u001b[39m\u001b[38;5;124mx\u001b[39m\u001b[38;5;124m\"\u001b[39m  \n\u001b[1;32m     49\u001b[0m \u001b[38;5;28;01melse\u001b[39;00m:\n\u001b[1;32m     50\u001b[0m \t\u001b[38;5;28mprint\u001b[39m(\u001b[38;5;124m\"\u001b[39m\u001b[38;5;124mGame aborted\u001b[39m\u001b[38;5;130;01m\\n\u001b[39;00m\u001b[38;5;124m\"\u001b[39m)\n",
      "\u001b[0;31mTypeError\u001b[0m: list indices must be integers or slices, not str"
     ]
    }
   ],
   "source": [
    "fieldls = [\" \",\" \",\" \",\" \",\" \",\" \",\" \",\" \",\" \"]\n",
    "acceptable_range=list(range(0,10))\n",
    "choice = \"False\"\n",
    "game_choice = \"Y\"\n",
    "new_choice = \"False\"\n",
    "\n",
    "#Functions\n",
    "\n",
    "def display_board():\n",
    "\tprint(f\" {fieldls[0]}| {fieldls[1]} | {fieldls[2]}\\n---------\\n {fieldls[3]}| {fieldls[4]} | {fieldls[5]}\\n---------\\n {fieldls[6]}| {fieldls[7]} | {fieldls[8]}\\n\")\n",
    "\n",
    "\n",
    "def game_on_choice():\n",
    "\tgame_choice = input(\"Do you want to continue playing (Y or N)?\")\n",
    "\twhile game_choice != \"Y\" or \"N\":\n",
    "\t\tprint(\"Sorry, I do not understand you. Please try again!\")\n",
    "\t\tgame_choice = input(\"Do you want to continue playing (Y or N)?\")\n",
    "\n",
    "\n",
    "#Game_Logic\n",
    "while game_choice == \"Y\":\n",
    "\tdisplay_board()\n",
    "\t\n",
    "\tgame_choice = input(\"Do you want to continue playing (Y or N)?\")\n",
    "\n",
    "\tuser_choice()\n",
    "\n",
    "\tfieldls[(new_choice)] = \"x\"  \n",
    "\n",
    "\n",
    "\n",
    "\n",
    "else:\n",
    "\tprint(\"Game aborted\\n\")"
   ]
  },
  {
   "cell_type": "code",
   "execution_count": 45,
   "id": "875ee24a",
   "metadata": {},
   "outputs": [],
   "source": [
    "fieldls = [\" \",\" \",\" \",\" \",\" \",\" \",\" \",\" \",\" \"]\n",
    "acceptable_range=list(range(0,10))\n",
    "choice = \"False\"\n",
    "game_choice = \"Y\"\n",
    "new_choice = \"False\""
   ]
  },
  {
   "cell_type": "code",
   "execution_count": 46,
   "id": "e07606e9",
   "metadata": {},
   "outputs": [],
   "source": [
    "def user_choice():\n",
    "\tchoice = input(\"Please input the position of your next move: \")\n",
    "\twhile choice.isdigit() == False:  \n",
    "\n",
    "\t\tif choice.isdigit() == False:\n",
    "\t\t\tchoice = input(\"Please input a number \")\n",
    "\n",
    "\treturn int(choice)\n",
    "\n",
    "\twhile choice not in acceptable_range:\n",
    "\n",
    "\t\tif choice not in acceptable_range:\n",
    "\t\t\tprint(\"Please input a number in the range\") \n",
    "\n",
    "\treturn int(choice)\n",
    "\tnew_choice = int(choice)\n"
   ]
  },
  {
   "cell_type": "code",
   "execution_count": 47,
   "id": "8ff6740c",
   "metadata": {},
   "outputs": [],
   "source": [
    "def game_on_choice():\n",
    "\tgame_choice = input(\"Do you want to continue playing (Y or N)?\")\n",
    "\twhile game_choice != \"Y\" or \"N\":\n",
    "\t\tprint(\"Sorry, I do not understand you. Please try again!\")\n",
    "\t\tgame_choice = input(\"Do you want to continue playing (Y or N)?\")"
   ]
  },
  {
   "cell_type": "code",
   "execution_count": 48,
   "id": "20ebca4b",
   "metadata": {
    "scrolled": true
   },
   "outputs": [
    {
     "name": "stdout",
     "output_type": "stream",
     "text": [
      "  |   |  \n",
      "---------\n",
      "  |   |  \n",
      "---------\n",
      "  |   |  \n",
      "\n",
      "Do you want to continue playing (Y or N)?Y\n",
      "Please input the position of your next move: 7\n",
      "False\n",
      "  |   |  \n",
      "---------\n",
      "  |   |  \n",
      "---------\n",
      "  |   |  \n",
      "\n",
      "Do you want to continue playing (Y or N)?N\n",
      "Please input the position of your next move: 8\n",
      "False\n",
      "Game aborted\n",
      "\n"
     ]
    }
   ],
   "source": [
    "while game_choice == \"Y\":\n",
    "\tdisplay_board()\n",
    "\t\n",
    "\tgame_choice = input(\"Do you want to continue playing (Y or N)?\")\n",
    "\n",
    "\tuser_choice()\n",
    "\n",
    "\tprint(new_choice) \n",
    "    \n",
    "else:\n",
    "    print(\"Game aborted\\n\")"
   ]
  },
  {
   "cell_type": "code",
   "execution_count": 32,
   "id": "f6dc382f",
   "metadata": {},
   "outputs": [
    {
     "name": "stdout",
     "output_type": "stream",
     "text": [
      "False\n"
     ]
    }
   ],
   "source": [
    "print(new_choice)"
   ]
  },
  {
   "cell_type": "code",
   "execution_count": null,
   "id": "a1e557e0",
   "metadata": {},
   "outputs": [],
   "source": []
  }
 ],
 "metadata": {
  "kernelspec": {
   "display_name": "Python 3 (ipykernel)",
   "language": "python",
   "name": "python3"
  },
  "language_info": {
   "codemirror_mode": {
    "name": "ipython",
    "version": 3
   },
   "file_extension": ".py",
   "mimetype": "text/x-python",
   "name": "python",
   "nbconvert_exporter": "python",
   "pygments_lexer": "ipython3",
   "version": "3.11.5"
  }
 },
 "nbformat": 4,
 "nbformat_minor": 5
}
