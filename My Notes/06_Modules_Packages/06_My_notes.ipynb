{
 "cells": [
  {
   "cell_type": "markdown",
   "id": "87c353fd",
   "metadata": {},
   "source": [
    "pip install nameOfModule   (often like this)"
   ]
  },
  {
   "cell_type": "markdown",
   "id": "37904e42",
   "metadata": {},
   "source": [
    "https://openpyxl.readthedocs.io/en/stable/ as an example: openpyxl"
   ]
  },
  {
   "cell_type": "markdown",
   "id": "307ca9bc",
   "metadata": {},
   "source": [
    "packages are collection of modules - but you have to place a key: \"_init_.py\"(with 2 underscores on each is the key).\n",
    "So that it's recognized as a package: - .py scripts => continue in .py Files in Text"
   ]
  },
  {
   "cell_type": "code",
   "execution_count": 2,
   "id": "27a01995",
   "metadata": {},
   "outputs": [],
   "source": [
    "__name__  = \"__main__\" #build in variable\n",
    "if __name__ == \"__main__\":\n",
    "    pass                   #checks, if it runs directly (because __name__ gets assigned \"__main__\" if run directly (indent lvl 0))"
   ]
  },
  {
   "cell_type": "code",
   "execution_count": null,
   "id": "cc981d2e",
   "metadata": {},
   "outputs": [],
   "source": []
  }
 ],
 "metadata": {
  "kernelspec": {
   "display_name": "Python 3 (ipykernel)",
   "language": "python",
   "name": "python3"
  },
  "language_info": {
   "codemirror_mode": {
    "name": "ipython",
    "version": 3
   },
   "file_extension": ".py",
   "mimetype": "text/x-python",
   "name": "python",
   "nbconvert_exporter": "python",
   "pygments_lexer": "ipython3",
   "version": "3.11.5"
  }
 },
 "nbformat": 4,
 "nbformat_minor": 5
}
