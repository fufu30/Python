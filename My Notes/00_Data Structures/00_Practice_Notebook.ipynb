{
 "cells": [
  {
   "cell_type": "code",
   "execution_count": 1,
   "id": "05616b86",
   "metadata": {},
   "outputs": [
    {
     "data": {
      "text/plain": [
       "2"
      ]
     },
     "execution_count": 1,
     "metadata": {},
     "output_type": "execute_result"
    }
   ],
   "source": [
    "1+1"
   ]
  },
  {
   "cell_type": "code",
   "execution_count": 1,
   "id": "bde5c936",
   "metadata": {},
   "outputs": [
    {
     "name": "stdout",
     "output_type": "stream",
     "text": [
      "Hello\n"
     ]
    }
   ],
   "source": [
    "print(\"Hello\")"
   ]
  },
  {
   "cell_type": "markdown",
   "id": "d40c5f03",
   "metadata": {},
   "source": [
    "This is no longer a code cell, no In before the cell"
   ]
  },
  {
   "cell_type": "code",
   "execution_count": 6,
   "id": "bf145c09",
   "metadata": {},
   "outputs": [
    {
     "name": "stdout",
     "output_type": "stream",
     "text": [
      "Hello world one \n",
      "Hello world two\n"
     ]
    }
   ],
   "source": [
    "print (\"Hello world one \\nHello world two\")"
   ]
  },
  {
   "cell_type": "code",
   "execution_count": 7,
   "id": "3c7467c0",
   "metadata": {},
   "outputs": [],
   "source": [
    "MyString = \"hello world\""
   ]
  },
  {
   "cell_type": "code",
   "execution_count": 8,
   "id": "f11e426e",
   "metadata": {},
   "outputs": [
    {
     "data": {
      "text/plain": [
       "'hello world'"
      ]
     },
     "execution_count": 8,
     "metadata": {},
     "output_type": "execute_result"
    }
   ],
   "source": [
    "MyString"
   ]
  },
  {
   "cell_type": "code",
   "execution_count": 9,
   "id": "a719a2bc",
   "metadata": {},
   "outputs": [
    {
     "data": {
      "text/plain": [
       "'r'"
      ]
     },
     "execution_count": 9,
     "metadata": {},
     "output_type": "execute_result"
    }
   ],
   "source": [
    "MyString[8]"
   ]
  },
  {
   "cell_type": "code",
   "execution_count": 10,
   "id": "c9661d95",
   "metadata": {},
   "outputs": [
    {
     "data": {
      "text/plain": [
       "'l'"
      ]
     },
     "execution_count": 10,
     "metadata": {},
     "output_type": "execute_result"
    }
   ],
   "source": [
    "MyString[-9]"
   ]
  },
  {
   "cell_type": "code",
   "execution_count": 11,
   "id": "7b4dd919",
   "metadata": {},
   "outputs": [
    {
     "data": {
      "text/plain": [
       "''"
      ]
     },
     "execution_count": 11,
     "metadata": {},
     "output_type": "execute_result"
    }
   ],
   "source": [
    "MyString[1:5:-9]"
   ]
  },
  {
   "cell_type": "code",
   "execution_count": 13,
   "id": "1e85e98f",
   "metadata": {},
   "outputs": [
    {
     "data": {
      "text/plain": [
       "'ello'"
      ]
     },
     "execution_count": 13,
     "metadata": {},
     "output_type": "execute_result"
    }
   ],
   "source": [
    "MyString[1:5:]"
   ]
  },
  {
   "cell_type": "code",
   "execution_count": 15,
   "id": "657ac8a1",
   "metadata": {},
   "outputs": [],
   "source": [
    "mystring = \"asdfghjklö\""
   ]
  },
  {
   "cell_type": "code",
   "execution_count": 16,
   "id": "921180a0",
   "metadata": {},
   "outputs": [
    {
     "data": {
      "text/plain": [
       "'asdfghjklö'"
      ]
     },
     "execution_count": 16,
     "metadata": {},
     "output_type": "execute_result"
    }
   ],
   "source": [
    "mystring"
   ]
  },
  {
   "cell_type": "code",
   "execution_count": 17,
   "id": "5134e68f",
   "metadata": {},
   "outputs": [
    {
     "data": {
      "text/plain": [
       "'dfg'"
      ]
     },
     "execution_count": 17,
     "metadata": {},
     "output_type": "execute_result"
    }
   ],
   "source": [
    "mystring[2:5]"
   ]
  },
  {
   "cell_type": "code",
   "execution_count": 18,
   "id": "5396b0a7",
   "metadata": {},
   "outputs": [
    {
     "data": {
      "text/plain": [
       "'df'"
      ]
     },
     "execution_count": 18,
     "metadata": {},
     "output_type": "execute_result"
    }
   ],
   "source": [
    "mystring[2:4]"
   ]
  },
  {
   "cell_type": "code",
   "execution_count": 19,
   "id": "22c27317",
   "metadata": {},
   "outputs": [
    {
     "data": {
      "text/plain": [
       "'dhl'"
      ]
     },
     "execution_count": 19,
     "metadata": {},
     "output_type": "execute_result"
    }
   ],
   "source": [
    "mystring[2::3]"
   ]
  },
  {
   "cell_type": "code",
   "execution_count": 20,
   "id": "3bbb4d91",
   "metadata": {},
   "outputs": [
    {
     "data": {
      "text/plain": [
       "'sgk'"
      ]
     },
     "execution_count": 20,
     "metadata": {},
     "output_type": "execute_result"
    }
   ],
   "source": [
    "mystring[1:9:3]"
   ]
  },
  {
   "cell_type": "code",
   "execution_count": 21,
   "id": "10425735",
   "metadata": {},
   "outputs": [
    {
     "data": {
      "text/plain": [
       "'ölkjhgfdsa'"
      ]
     },
     "execution_count": 21,
     "metadata": {},
     "output_type": "execute_result"
    }
   ],
   "source": [
    "mystring[::-1]"
   ]
  },
  {
   "cell_type": "code",
   "execution_count": 22,
   "id": "78d18c86",
   "metadata": {},
   "outputs": [],
   "source": [
    "name = \"sam\""
   ]
  },
  {
   "cell_type": "code",
   "execution_count": 23,
   "id": "c5f0fbef",
   "metadata": {},
   "outputs": [],
   "source": [
    "name =\"Pam\""
   ]
  },
  {
   "cell_type": "code",
   "execution_count": 24,
   "id": "a3bf29ed",
   "metadata": {},
   "outputs": [
    {
     "data": {
      "text/plain": [
       "'am'"
      ]
     },
     "execution_count": 24,
     "metadata": {},
     "output_type": "execute_result"
    }
   ],
   "source": [
    "name[1::]"
   ]
  },
  {
   "cell_type": "code",
   "execution_count": 28,
   "id": "12d6cdae",
   "metadata": {},
   "outputs": [],
   "source": [
    "lastLetters = \"P\" +name[1::] "
   ]
  },
  {
   "cell_type": "code",
   "execution_count": 29,
   "id": "aaf7f7cd",
   "metadata": {},
   "outputs": [
    {
     "data": {
      "text/plain": [
       "'Pam'"
      ]
     },
     "execution_count": 29,
     "metadata": {},
     "output_type": "execute_result"
    }
   ],
   "source": [
    "lastLetters"
   ]
  },
  {
   "cell_type": "code",
   "execution_count": 30,
   "id": "625a461d",
   "metadata": {},
   "outputs": [],
   "source": [
    "letter = \"z\""
   ]
  },
  {
   "cell_type": "code",
   "execution_count": 31,
   "id": "26b6b18c",
   "metadata": {},
   "outputs": [
    {
     "data": {
      "text/plain": [
       "'zzzzzzzzzz'"
      ]
     },
     "execution_count": 31,
     "metadata": {},
     "output_type": "execute_result"
    }
   ],
   "source": [
    "letter *10\n"
   ]
  },
  {
   "cell_type": "code",
   "execution_count": 33,
   "id": "3fadd6f0",
   "metadata": {},
   "outputs": [],
   "source": [
    "x = \"Hello world\""
   ]
  },
  {
   "cell_type": "code",
   "execution_count": 38,
   "id": "26d74203",
   "metadata": {},
   "outputs": [
    {
     "data": {
      "text/plain": [
       "'Hello world'"
      ]
     },
     "execution_count": 38,
     "metadata": {},
     "output_type": "execute_result"
    }
   ],
   "source": [
    "x.capitalize()"
   ]
  },
  {
   "cell_type": "code",
   "execution_count": 39,
   "id": "64e522e0",
   "metadata": {},
   "outputs": [
    {
     "data": {
      "text/plain": [
       "['Hello', 'world']"
      ]
     },
     "execution_count": 39,
     "metadata": {},
     "output_type": "execute_result"
    }
   ],
   "source": [
    "x.split()"
   ]
  },
  {
   "cell_type": "code",
   "execution_count": 37,
   "id": "0be1dbd3",
   "metadata": {},
   "outputs": [
    {
     "data": {
      "text/plain": [
       "'HELLO WORLD'"
      ]
     },
     "execution_count": 37,
     "metadata": {},
     "output_type": "execute_result"
    }
   ],
   "source": [
    "x.upper()"
   ]
  },
  {
   "cell_type": "code",
   "execution_count": 43,
   "id": "a85fb300",
   "metadata": {},
   "outputs": [
    {
     "data": {
      "text/plain": [
       "['Hello world']"
      ]
     },
     "execution_count": 43,
     "metadata": {},
     "output_type": "execute_result"
    }
   ],
   "source": [
    "x.split(\"i\")"
   ]
  },
  {
   "cell_type": "code",
   "execution_count": 45,
   "id": "b6895135",
   "metadata": {},
   "outputs": [
    {
     "name": "stdout",
     "output_type": "stream",
     "text": [
      "Hello to all on the world\n"
     ]
    }
   ],
   "source": [
    "print(\"Hello to all on the {}\".format(\"world\"))"
   ]
  },
  {
   "cell_type": "code",
   "execution_count": 48,
   "id": "0e102241",
   "metadata": {},
   "outputs": [
    {
     "name": "stdout",
     "output_type": "stream",
     "text": [
      "The quick brown fox\n"
     ]
    }
   ],
   "source": [
    "print(\"The {q} {b} {f}\".format(f=\"fox\",q=\"quick\", b=\"brown\"))"
   ]
  },
  {
   "cell_type": "code",
   "execution_count": 49,
   "id": "d3f698aa",
   "metadata": {},
   "outputs": [],
   "source": [
    "result = 1672348/5678"
   ]
  },
  {
   "cell_type": "code",
   "execution_count": 54,
   "id": "bf4b1396",
   "metadata": {},
   "outputs": [
    {
     "name": "stdout",
     "output_type": "stream",
     "text": [
      "The result was        295\n"
     ]
    }
   ],
   "source": [
    "print(\"The result was {r:10.0f}\".format(r =result))"
   ]
  },
  {
   "cell_type": "code",
   "execution_count": 56,
   "id": "cd167d83",
   "metadata": {},
   "outputs": [],
   "source": [
    "name = \"jose\""
   ]
  },
  {
   "cell_type": "code",
   "execution_count": 58,
   "id": "13f10e99",
   "metadata": {},
   "outputs": [
    {
     "name": "stdout",
     "output_type": "stream",
     "text": [
      "hello jose\n"
     ]
    }
   ],
   "source": [
    "print(f\"hello {name}\")"
   ]
  },
  {
   "cell_type": "code",
   "execution_count": 59,
   "id": "310d4743",
   "metadata": {},
   "outputs": [],
   "source": [
    "newList = [\"one\",\"two\",\"three\"]"
   ]
  },
  {
   "cell_type": "code",
   "execution_count": 60,
   "id": "45dee02e",
   "metadata": {},
   "outputs": [],
   "source": [
    "newList.append(\"six\")"
   ]
  },
  {
   "cell_type": "code",
   "execution_count": 61,
   "id": "3136e446",
   "metadata": {},
   "outputs": [
    {
     "data": {
      "text/plain": [
       "['one', 'two', 'three', 'six']"
      ]
     },
     "execution_count": 61,
     "metadata": {},
     "output_type": "execute_result"
    }
   ],
   "source": [
    "newList"
   ]
  },
  {
   "cell_type": "code",
   "execution_count": 62,
   "id": "f8869d9f",
   "metadata": {},
   "outputs": [],
   "source": [
    "newList[2]= \"five\""
   ]
  },
  {
   "cell_type": "code",
   "execution_count": 63,
   "id": "b77b3df7",
   "metadata": {},
   "outputs": [
    {
     "data": {
      "text/plain": [
       "['one', 'two', 'five', 'six']"
      ]
     },
     "execution_count": 63,
     "metadata": {},
     "output_type": "execute_result"
    }
   ],
   "source": [
    "newList"
   ]
  },
  {
   "cell_type": "code",
   "execution_count": 64,
   "id": "364569cc",
   "metadata": {},
   "outputs": [
    {
     "data": {
      "text/plain": [
       "'six'"
      ]
     },
     "execution_count": 64,
     "metadata": {},
     "output_type": "execute_result"
    }
   ],
   "source": [
    "newList.pop()"
   ]
  },
  {
   "cell_type": "code",
   "execution_count": 75,
   "id": "7a715c7c",
   "metadata": {},
   "outputs": [
    {
     "data": {
      "text/plain": [
       "[]"
      ]
     },
     "execution_count": 75,
     "metadata": {},
     "output_type": "execute_result"
    }
   ],
   "source": [
    "newList"
   ]
  },
  {
   "cell_type": "code",
   "execution_count": 72,
   "id": "e761df47",
   "metadata": {},
   "outputs": [
    {
     "data": {
      "text/plain": [
       "'one'"
      ]
     },
     "execution_count": 72,
     "metadata": {},
     "output_type": "execute_result"
    }
   ],
   "source": [
    "newList.pop(0)"
   ]
  },
  {
   "cell_type": "code",
   "execution_count": 68,
   "id": "8b582543",
   "metadata": {},
   "outputs": [],
   "source": [
    "popped_item = newList.pop()"
   ]
  },
  {
   "cell_type": "code",
   "execution_count": 73,
   "id": "034d52f8",
   "metadata": {},
   "outputs": [
    {
     "data": {
      "text/plain": [
       "[]"
      ]
     },
     "execution_count": 73,
     "metadata": {},
     "output_type": "execute_result"
    }
   ],
   "source": [
    "newList"
   ]
  },
  {
   "cell_type": "code",
   "execution_count": 74,
   "id": "ab239175",
   "metadata": {},
   "outputs": [
    {
     "data": {
      "text/plain": [
       "'two'"
      ]
     },
     "execution_count": 74,
     "metadata": {},
     "output_type": "execute_result"
    }
   ],
   "source": [
    "popped_item"
   ]
  },
  {
   "cell_type": "code",
   "execution_count": 76,
   "id": "2dcb7fac",
   "metadata": {},
   "outputs": [
    {
     "data": {
      "text/plain": [
       "list"
      ]
     },
     "execution_count": 76,
     "metadata": {},
     "output_type": "execute_result"
    }
   ],
   "source": [
    "type(newList)"
   ]
  },
  {
   "cell_type": "code",
   "execution_count": 77,
   "id": "f9ef4d58",
   "metadata": {},
   "outputs": [
    {
     "data": {
      "text/plain": [
       "[]"
      ]
     },
     "execution_count": 77,
     "metadata": {},
     "output_type": "execute_result"
    }
   ],
   "source": [
    "newList"
   ]
  },
  {
   "cell_type": "code",
   "execution_count": 78,
   "id": "9fbdf118",
   "metadata": {},
   "outputs": [],
   "source": [
    "newList=[1,3,5,8,1]"
   ]
  },
  {
   "cell_type": "code",
   "execution_count": 79,
   "id": "7245443a",
   "metadata": {},
   "outputs": [],
   "source": [
    "newList.reverse()"
   ]
  },
  {
   "cell_type": "code",
   "execution_count": 80,
   "id": "e84f4d5c",
   "metadata": {},
   "outputs": [
    {
     "data": {
      "text/plain": [
       "[1, 8, 5, 3, 1]"
      ]
     },
     "execution_count": 80,
     "metadata": {},
     "output_type": "execute_result"
    }
   ],
   "source": [
    "newList"
   ]
  },
  {
   "cell_type": "code",
   "execution_count": 86,
   "id": "cccc899b",
   "metadata": {},
   "outputs": [],
   "source": [
    "myDict={\"key1\":\"value1\", \"key2\":\"2\"}"
   ]
  },
  {
   "cell_type": "code",
   "execution_count": 87,
   "id": "79faccae",
   "metadata": {},
   "outputs": [
    {
     "data": {
      "text/plain": [
       "'2'"
      ]
     },
     "execution_count": 87,
     "metadata": {},
     "output_type": "execute_result"
    }
   ],
   "source": [
    "myDict[\"key2\"]"
   ]
  },
  {
   "cell_type": "code",
   "execution_count": 88,
   "id": "56f1fe44",
   "metadata": {},
   "outputs": [],
   "source": [
    "d={\"k1\":123, \"k2\":[0,1,2], \"k3\": {\"k3.1\":.0939}}"
   ]
  },
  {
   "cell_type": "code",
   "execution_count": 91,
   "id": "136face0",
   "metadata": {},
   "outputs": [
    {
     "data": {
      "text/plain": [
       "0.0939"
      ]
     },
     "execution_count": 91,
     "metadata": {},
     "output_type": "execute_result"
    }
   ],
   "source": [
    "d[\"k3\"][\"k3.1\"]"
   ]
  },
  {
   "cell_type": "code",
   "execution_count": 92,
   "id": "56696505",
   "metadata": {},
   "outputs": [
    {
     "data": {
      "text/plain": [
       "[0, 1, 2]"
      ]
     },
     "execution_count": 92,
     "metadata": {},
     "output_type": "execute_result"
    }
   ],
   "source": [
    "d['k2']"
   ]
  },
  {
   "cell_type": "code",
   "execution_count": 93,
   "id": "5ad304af",
   "metadata": {},
   "outputs": [
    {
     "data": {
      "text/plain": [
       "2"
      ]
     },
     "execution_count": 93,
     "metadata": {},
     "output_type": "execute_result"
    }
   ],
   "source": [
    "d['k2'][2]"
   ]
  },
  {
   "cell_type": "code",
   "execution_count": 94,
   "id": "8fc21886",
   "metadata": {},
   "outputs": [],
   "source": [
    "d[\"k2\"][2]=3"
   ]
  },
  {
   "cell_type": "code",
   "execution_count": 95,
   "id": "29247311",
   "metadata": {},
   "outputs": [
    {
     "data": {
      "text/plain": [
       "{'k1': 123, 'k2': [0, 1, 3], 'k3': {'k3.1': 0.0939}}"
      ]
     },
     "execution_count": 95,
     "metadata": {},
     "output_type": "execute_result"
    }
   ],
   "source": [
    "d"
   ]
  },
  {
   "cell_type": "code",
   "execution_count": 96,
   "id": "9c07341f",
   "metadata": {},
   "outputs": [],
   "source": [
    "d2= {\"k1\":3, \"k2\":\"string\"} "
   ]
  },
  {
   "cell_type": "code",
   "execution_count": 97,
   "id": "d397f8e4",
   "metadata": {},
   "outputs": [],
   "source": [
    "d2[\"k3\"]=90"
   ]
  },
  {
   "cell_type": "code",
   "execution_count": 98,
   "id": "8dc0bfd4",
   "metadata": {},
   "outputs": [
    {
     "data": {
      "text/plain": [
       "{'k1': 3, 'k2': 'string', 'k3': 90}"
      ]
     },
     "execution_count": 98,
     "metadata": {},
     "output_type": "execute_result"
    }
   ],
   "source": [
    "d2"
   ]
  },
  {
   "cell_type": "code",
   "execution_count": 99,
   "id": "b512bf9a",
   "metadata": {},
   "outputs": [
    {
     "data": {
      "text/plain": [
       "dict_keys(['k1', 'k2', 'k3'])"
      ]
     },
     "execution_count": 99,
     "metadata": {},
     "output_type": "execute_result"
    }
   ],
   "source": [
    "d.keys()"
   ]
  },
  {
   "cell_type": "code",
   "execution_count": 100,
   "id": "d8e3c588",
   "metadata": {},
   "outputs": [
    {
     "data": {
      "text/plain": [
       "dict_items([('k1', 123), ('k2', [0, 1, 3]), ('k3', {'k3.1': 0.0939})])"
      ]
     },
     "execution_count": 100,
     "metadata": {},
     "output_type": "execute_result"
    }
   ],
   "source": [
    "d.items()"
   ]
  },
  {
   "cell_type": "code",
   "execution_count": 101,
   "id": "ee57f55f",
   "metadata": {},
   "outputs": [],
   "source": [
    "d3={1:\"keyvalue\", \"k1\":6}"
   ]
  },
  {
   "cell_type": "code",
   "execution_count": 102,
   "id": "789ce021",
   "metadata": {},
   "outputs": [
    {
     "data": {
      "text/plain": [
       "'keyvalue'"
      ]
     },
     "execution_count": 102,
     "metadata": {},
     "output_type": "execute_result"
    }
   ],
   "source": [
    "d3[1]"
   ]
  },
  {
   "cell_type": "code",
   "execution_count": 103,
   "id": "3d5be20a",
   "metadata": {},
   "outputs": [
    {
     "data": {
      "text/plain": [
       "3"
      ]
     },
     "execution_count": 103,
     "metadata": {},
     "output_type": "execute_result"
    }
   ],
   "source": [
    "len(d)"
   ]
  },
  {
   "cell_type": "code",
   "execution_count": 104,
   "id": "957de6e3",
   "metadata": {},
   "outputs": [],
   "source": [
    "t = d.items()"
   ]
  },
  {
   "cell_type": "code",
   "execution_count": 105,
   "id": "2692c398",
   "metadata": {},
   "outputs": [
    {
     "data": {
      "text/plain": [
       "dict_items([('k1', 123), ('k2', [0, 1, 3]), ('k3', {'k3.1': 0.0939})])"
      ]
     },
     "execution_count": 105,
     "metadata": {},
     "output_type": "execute_result"
    }
   ],
   "source": [
    "t"
   ]
  },
  {
   "cell_type": "code",
   "execution_count": 106,
   "id": "8a402a84",
   "metadata": {},
   "outputs": [
    {
     "data": {
      "text/plain": [
       "3"
      ]
     },
     "execution_count": 106,
     "metadata": {},
     "output_type": "execute_result"
    }
   ],
   "source": [
    "len(t)"
   ]
  },
  {
   "cell_type": "code",
   "execution_count": 111,
   "id": "2c93abdc",
   "metadata": {},
   "outputs": [],
   "source": [
    "t= (1,2,3,4,\"a\", 4*4)"
   ]
  },
  {
   "cell_type": "code",
   "execution_count": 112,
   "id": "b813b292",
   "metadata": {},
   "outputs": [
    {
     "data": {
      "text/plain": [
       "1"
      ]
     },
     "execution_count": 112,
     "metadata": {},
     "output_type": "execute_result"
    }
   ],
   "source": [
    "t.count(4)"
   ]
  },
  {
   "cell_type": "code",
   "execution_count": 110,
   "id": "ad64add6",
   "metadata": {},
   "outputs": [
    {
     "data": {
      "text/plain": [
       "3"
      ]
     },
     "execution_count": 110,
     "metadata": {},
     "output_type": "execute_result"
    }
   ],
   "source": [
    "t.index(4)"
   ]
  },
  {
   "cell_type": "code",
   "execution_count": 113,
   "id": "0dea26b3",
   "metadata": {},
   "outputs": [
    {
     "data": {
      "text/plain": [
       "(3, 4, 'a', 16)"
      ]
     },
     "execution_count": 113,
     "metadata": {},
     "output_type": "execute_result"
    }
   ],
   "source": [
    "t[2:]"
   ]
  },
  {
   "cell_type": "code",
   "execution_count": 2,
   "id": "e39ae4b0",
   "metadata": {},
   "outputs": [],
   "source": [
    "mySet=set()"
   ]
  },
  {
   "cell_type": "code",
   "execution_count": 4,
   "id": "9defbb27",
   "metadata": {},
   "outputs": [],
   "source": [
    "mySet.add(9)"
   ]
  },
  {
   "cell_type": "code",
   "execution_count": 7,
   "id": "6a493e24",
   "metadata": {},
   "outputs": [],
   "source": [
    "myList9=[1,2,2,2,7,3,3,6,4,4,4,6,4]"
   ]
  },
  {
   "cell_type": "code",
   "execution_count": 8,
   "id": "b36fad60",
   "metadata": {},
   "outputs": [],
   "source": [
    "myList9.sort()"
   ]
  },
  {
   "cell_type": "code",
   "execution_count": 9,
   "id": "49b28028",
   "metadata": {},
   "outputs": [
    {
     "data": {
      "text/plain": [
       "{1, 2, 3, 4, 6, 7}"
      ]
     },
     "execution_count": 9,
     "metadata": {},
     "output_type": "execute_result"
    }
   ],
   "source": [
    "set(myList9)"
   ]
  },
  {
   "cell_type": "code",
   "execution_count": 10,
   "id": "8ccb66b0",
   "metadata": {},
   "outputs": [
    {
     "data": {
      "text/plain": [
       "bool"
      ]
     },
     "execution_count": 10,
     "metadata": {},
     "output_type": "execute_result"
    }
   ],
   "source": [
    "type(False)"
   ]
  },
  {
   "cell_type": "code",
   "execution_count": 11,
   "id": "37e1ce25",
   "metadata": {},
   "outputs": [
    {
     "data": {
      "text/plain": [
       "True"
      ]
     },
     "execution_count": 11,
     "metadata": {},
     "output_type": "execute_result"
    }
   ],
   "source": [
    "1 < 4"
   ]
  },
  {
   "cell_type": "code",
   "execution_count": 12,
   "id": "6f007156",
   "metadata": {},
   "outputs": [
    {
     "data": {
      "text/plain": [
       "False"
      ]
     },
     "execution_count": 12,
     "metadata": {},
     "output_type": "execute_result"
    }
   ],
   "source": [
    "1>2"
   ]
  },
  {
   "cell_type": "code",
   "execution_count": 16,
   "id": "2f80beef",
   "metadata": {},
   "outputs": [
    {
     "data": {
      "text/plain": [
       "True"
      ]
     },
     "execution_count": 16,
     "metadata": {},
     "output_type": "execute_result"
    }
   ],
   "source": [
    "1 == 1"
   ]
  },
  {
   "cell_type": "code",
   "execution_count": 17,
   "id": "25b2d093",
   "metadata": {},
   "outputs": [],
   "source": [
    "b =None"
   ]
  },
  {
   "cell_type": "code",
   "execution_count": 18,
   "id": "10058051",
   "metadata": {},
   "outputs": [
    {
     "name": "stdout",
     "output_type": "stream",
     "text": [
      "Writing myfile.txt\n"
     ]
    }
   ],
   "source": [
    "%%writefile myfile.txt\n",
    "Hello this is a text file\n",
    "Hello this is the second line \n",
    "ghj is ghj"
   ]
  },
  {
   "cell_type": "code",
   "execution_count": 19,
   "id": "518be71a",
   "metadata": {},
   "outputs": [],
   "source": [
    "myfile = open(\"myfile.txt\")"
   ]
  },
  {
   "cell_type": "code",
   "execution_count": 20,
   "id": "def2f857",
   "metadata": {},
   "outputs": [
    {
     "data": {
      "text/plain": [
       "'/Users/arthurpetrov/Documents/Python'"
      ]
     },
     "execution_count": 20,
     "metadata": {},
     "output_type": "execute_result"
    }
   ],
   "source": [
    "pwd"
   ]
  },
  {
   "cell_type": "code",
   "execution_count": 21,
   "id": "eb3bd64a",
   "metadata": {},
   "outputs": [
    {
     "data": {
      "text/plain": [
       "'Hello this is a text file\\nHello this is the second line \\nghj is ghj\\n'"
      ]
     },
     "execution_count": 21,
     "metadata": {},
     "output_type": "execute_result"
    }
   ],
   "source": [
    "myfile.read()"
   ]
  },
  {
   "cell_type": "code",
   "execution_count": 22,
   "id": "db08697d",
   "metadata": {},
   "outputs": [
    {
     "data": {
      "text/plain": [
       "''"
      ]
     },
     "execution_count": 22,
     "metadata": {},
     "output_type": "execute_result"
    }
   ],
   "source": [
    "myfile.read()"
   ]
  },
  {
   "cell_type": "code",
   "execution_count": 23,
   "id": "4735852d",
   "metadata": {},
   "outputs": [
    {
     "ename": "AttributeError",
     "evalue": "'_io.TextIOWrapper' object has no attribute 'reset'",
     "output_type": "error",
     "traceback": [
      "\u001b[0;31m---------------------------------------------------------------------------\u001b[0m",
      "\u001b[0;31mAttributeError\u001b[0m                            Traceback (most recent call last)",
      "Cell \u001b[0;32mIn[23], line 1\u001b[0m\n\u001b[0;32m----> 1\u001b[0m myfile\u001b[38;5;241m.\u001b[39mreset()\n",
      "\u001b[0;31mAttributeError\u001b[0m: '_io.TextIOWrapper' object has no attribute 'reset'"
     ]
    }
   ],
   "source": [
    "myfile.reset()"
   ]
  },
  {
   "cell_type": "code",
   "execution_count": 24,
   "id": "0f45d6c1",
   "metadata": {},
   "outputs": [
    {
     "data": {
      "text/plain": [
       "0"
      ]
     },
     "execution_count": 24,
     "metadata": {},
     "output_type": "execute_result"
    }
   ],
   "source": [
    "myfile.seek(0)"
   ]
  },
  {
   "cell_type": "code",
   "execution_count": 26,
   "id": "ec785831",
   "metadata": {},
   "outputs": [],
   "source": [
    "contents = myfile.read()"
   ]
  },
  {
   "cell_type": "code",
   "execution_count": 27,
   "id": "7990c70e",
   "metadata": {},
   "outputs": [
    {
     "data": {
      "text/plain": [
       "0"
      ]
     },
     "execution_count": 27,
     "metadata": {},
     "output_type": "execute_result"
    }
   ],
   "source": [
    "myfile.seek(0)"
   ]
  },
  {
   "cell_type": "code",
   "execution_count": 28,
   "id": "e53dec6c",
   "metadata": {},
   "outputs": [
    {
     "data": {
      "text/plain": [
       "['Hello this is a text file\\n',\n",
       " 'Hello this is the second line \\n',\n",
       " 'ghj is ghj\\n']"
      ]
     },
     "execution_count": 28,
     "metadata": {},
     "output_type": "execute_result"
    }
   ],
   "source": [
    "myfile.readlines()"
   ]
  },
  {
   "cell_type": "code",
   "execution_count": 29,
   "id": "eb418915",
   "metadata": {},
   "outputs": [
    {
     "data": {
      "text/plain": [
       "'/Users/arthurpetrov/Documents/Python'"
      ]
     },
     "execution_count": 29,
     "metadata": {},
     "output_type": "execute_result"
    }
   ],
   "source": [
    "pwd"
   ]
  },
  {
   "cell_type": "code",
   "execution_count": 41,
   "id": "3656bc64",
   "metadata": {},
   "outputs": [],
   "source": [
    "myfile.close()"
   ]
  },
  {
   "cell_type": "code",
   "execution_count": 40,
   "id": "0b0b8e38",
   "metadata": {},
   "outputs": [],
   "source": [
    "with open (\"myfile.txt\") as my_new_file:\n",
    "    contents = my_new_file.read()"
   ]
  },
  {
   "cell_type": "code",
   "execution_count": 47,
   "id": "c8e04c0f",
   "metadata": {},
   "outputs": [],
   "source": [
    "with open (\"myfile.txt\",  mode='r+') as my_new_file:\n",
    "    my_new_file.seek(0)\n",
    "    contents = my_new_file.read()"
   ]
  },
  {
   "cell_type": "code",
   "execution_count": 48,
   "id": "95e27102",
   "metadata": {},
   "outputs": [
    {
     "data": {
      "text/plain": [
       "''"
      ]
     },
     "execution_count": 48,
     "metadata": {},
     "output_type": "execute_result"
    }
   ],
   "source": [
    "contents"
   ]
  },
  {
   "cell_type": "code",
   "execution_count": 50,
   "id": "3dda1f90",
   "metadata": {},
   "outputs": [],
   "source": [
    "myfile = open (\"myfile.txt\")"
   ]
  },
  {
   "cell_type": "code",
   "execution_count": 51,
   "id": "140332fb",
   "metadata": {},
   "outputs": [
    {
     "data": {
      "text/plain": [
       "[]"
      ]
     },
     "execution_count": 51,
     "metadata": {},
     "output_type": "execute_result"
    }
   ],
   "source": [
    "myfile.readlines()"
   ]
  },
  {
   "cell_type": "code",
   "execution_count": 56,
   "id": "9db50473",
   "metadata": {},
   "outputs": [
    {
     "ename": "SyntaxError",
     "evalue": "incomplete input (3141798905.py, line 1)",
     "output_type": "error",
     "traceback": [
      "\u001b[0;36m  Cell \u001b[0;32mIn[56], line 1\u001b[0;36m\u001b[0m\n\u001b[0;31m    with open (\"myfile.txt\", mode=\"w+\") as my_new_file:\u001b[0m\n\u001b[0m                                                       ^\u001b[0m\n\u001b[0;31mSyntaxError\u001b[0m\u001b[0;31m:\u001b[0m incomplete input\n"
     ]
    }
   ],
   "source": [
    "with open (\"myfile.txt\", mode=\"w+\") as my_new_file:\n",
    "    "
   ]
  },
  {
   "cell_type": "code",
   "execution_count": 57,
   "id": "de703a64",
   "metadata": {},
   "outputs": [
    {
     "name": "stdout",
     "output_type": "stream",
     "text": [
      "Writing my_new_2textfile.txt\n"
     ]
    }
   ],
   "source": [
    "%%writefile my_new_2textfile.txt\n",
    "This is a text\n",
    "This is also a test\n",
    "And this is the last line originally"
   ]
  },
  {
   "cell_type": "code",
   "execution_count": 60,
   "id": "c316a12f",
   "metadata": {},
   "outputs": [
    {
     "name": "stdout",
     "output_type": "stream",
     "text": [
      "This is a text\n",
      "This is also a test\n",
      "And this is the last line originally\n",
      "\n"
     ]
    }
   ],
   "source": [
    "with open (\"my_new_2textfile.txt\") as f:\n",
    "    print(f.read())"
   ]
  },
  {
   "cell_type": "code",
   "execution_count": 61,
   "id": "ce337817",
   "metadata": {},
   "outputs": [],
   "source": [
    "with open (\"my_new_2textfile.txt\", mode = \"a\") as f:\n",
    "    f.write(\"This is an appended line\")"
   ]
  },
  {
   "cell_type": "code",
   "execution_count": 62,
   "id": "03116f01",
   "metadata": {},
   "outputs": [
    {
     "name": "stdout",
     "output_type": "stream",
     "text": [
      "This is a text\n",
      "This is also a test\n",
      "And this is the last line originally\n",
      "This is an appended line\n"
     ]
    }
   ],
   "source": [
    "with open (\"my_new_2textfile.txt\") as f:\n",
    "    print(f.read())"
   ]
  },
  {
   "cell_type": "code",
   "execution_count": 69,
   "id": "4e0abd5b",
   "metadata": {},
   "outputs": [],
   "source": [
    "with open (\"dfghjk.txt\", mode = \"w\") as f:\n",
    "    f.write(\"I created this file\")"
   ]
  },
  {
   "cell_type": "code",
   "execution_count": 70,
   "id": "9bee302f",
   "metadata": {},
   "outputs": [
    {
     "name": "stdout",
     "output_type": "stream",
     "text": [
      "I created this file\n"
     ]
    }
   ],
   "source": [
    "with open (\"dfghjk.txt\", mode = \"r\") as f:\n",
    "    print(f.read())"
   ]
  },
  {
   "cell_type": "code",
   "execution_count": null,
   "id": "f96277dd",
   "metadata": {},
   "outputs": [],
   "source": []
  }
 ],
 "metadata": {
  "kernelspec": {
   "display_name": "Python 3 (ipykernel)",
   "language": "python",
   "name": "python3"
  },
  "language_info": {
   "codemirror_mode": {
    "name": "ipython",
    "version": 3
   },
   "file_extension": ".py",
   "mimetype": "text/x-python",
   "name": "python",
   "nbconvert_exporter": "python",
   "pygments_lexer": "ipython3",
   "version": "3.11.5"
  }
 },
 "nbformat": 4,
 "nbformat_minor": 5
}
